{
 "cells": [
  {
   "cell_type": "markdown",
   "id": "a896de10",
   "metadata": {},
   "source": [
    "# Clase 8 Supuestos MCO"
   ]
  },
  {
   "cell_type": "markdown",
   "id": "b9def541",
   "metadata": {},
   "source": [
    "# Librerias"
   ]
  },
  {
   "cell_type": "code",
   "execution_count": 1,
   "id": "a7d1dac5",
   "metadata": {},
   "outputs": [],
   "source": [
    "# Tratamiento de datos\n",
    "# ==============================================================================\n",
    "import pandas as pd\n",
    "import numpy as np\n",
    "\n",
    "# Gráficos\n",
    "# ==============================================================================\n",
    "import matplotlib.pyplot as plt\n",
    "from matplotlib import style\n",
    "import seaborn as sns\n",
    "%matplotlib inline\n",
    "\n",
    "# Preprocesado y modelado\n",
    "# ==============================================================================\n",
    "import statsmodels.formula.api as smf\n",
    "import scipy.stats as stats\n",
    "import pylab\n",
    "from sklearn.preprocessing import LabelEncoder\n",
    "import statsmodels.api as sm\n",
    "import statsmodels.stats.api as sms\n",
    "\n",
    "# Configuración matplotlib\n",
    "# ==============================================================================\n",
    "plt.rcParams['image.cmap'] = \"bwr\"\n",
    "#plt.rcParams['figure.dpi'] = \"100\"\n",
    "plt.rcParams['savefig.bbox'] = \"tight\"\n",
    "style.use('ggplot') or plt.style.use('ggplot')\n",
    "\n",
    "# Configuración warnings\n",
    "# ==============================================================================\n",
    "import warnings\n",
    "warnings.filterwarnings('ignore')"
   ]
  },
  {
   "cell_type": "markdown",
   "id": "919507be",
   "metadata": {},
   "source": [
    "# Datos"
   ]
  },
  {
   "cell_type": "code",
   "execution_count": 2,
   "id": "3500faf0",
   "metadata": {},
   "outputs": [],
   "source": [
    "df = pd.read_csv('datasets/clase8.csv')"
   ]
  },
  {
   "cell_type": "code",
   "execution_count": 3,
   "id": "3b903d77",
   "metadata": {
    "scrolled": true
   },
   "outputs": [
    {
     "data": {
      "text/html": [
       "<div>\n",
       "<style scoped>\n",
       "    .dataframe tbody tr th:only-of-type {\n",
       "        vertical-align: middle;\n",
       "    }\n",
       "\n",
       "    .dataframe tbody tr th {\n",
       "        vertical-align: top;\n",
       "    }\n",
       "\n",
       "    .dataframe thead th {\n",
       "        text-align: right;\n",
       "    }\n",
       "</style>\n",
       "<table border=\"1\" class=\"dataframe\">\n",
       "  <thead>\n",
       "    <tr style=\"text-align: right;\">\n",
       "      <th></th>\n",
       "      <th>CM</th>\n",
       "      <th>FLR</th>\n",
       "      <th>PGNP</th>\n",
       "      <th>TFR</th>\n",
       "    </tr>\n",
       "  </thead>\n",
       "  <tbody>\n",
       "    <tr>\n",
       "      <th>0</th>\n",
       "      <td>128</td>\n",
       "      <td>37</td>\n",
       "      <td>1870</td>\n",
       "      <td>6.66</td>\n",
       "    </tr>\n",
       "    <tr>\n",
       "      <th>1</th>\n",
       "      <td>204</td>\n",
       "      <td>22</td>\n",
       "      <td>130</td>\n",
       "      <td>6.15</td>\n",
       "    </tr>\n",
       "    <tr>\n",
       "      <th>2</th>\n",
       "      <td>202</td>\n",
       "      <td>16</td>\n",
       "      <td>310</td>\n",
       "      <td>7.00</td>\n",
       "    </tr>\n",
       "    <tr>\n",
       "      <th>3</th>\n",
       "      <td>197</td>\n",
       "      <td>65</td>\n",
       "      <td>570</td>\n",
       "      <td>6.25</td>\n",
       "    </tr>\n",
       "    <tr>\n",
       "      <th>4</th>\n",
       "      <td>96</td>\n",
       "      <td>76</td>\n",
       "      <td>2050</td>\n",
       "      <td>3.81</td>\n",
       "    </tr>\n",
       "    <tr>\n",
       "      <th>...</th>\n",
       "      <td>...</td>\n",
       "      <td>...</td>\n",
       "      <td>...</td>\n",
       "      <td>...</td>\n",
       "    </tr>\n",
       "    <tr>\n",
       "      <th>59</th>\n",
       "      <td>115</td>\n",
       "      <td>62</td>\n",
       "      <td>1470</td>\n",
       "      <td>3.89</td>\n",
       "    </tr>\n",
       "    <tr>\n",
       "      <th>60</th>\n",
       "      <td>186</td>\n",
       "      <td>45</td>\n",
       "      <td>300</td>\n",
       "      <td>6.90</td>\n",
       "    </tr>\n",
       "    <tr>\n",
       "      <th>61</th>\n",
       "      <td>47</td>\n",
       "      <td>85</td>\n",
       "      <td>3630</td>\n",
       "      <td>4.10</td>\n",
       "    </tr>\n",
       "    <tr>\n",
       "      <th>62</th>\n",
       "      <td>178</td>\n",
       "      <td>45</td>\n",
       "      <td>220</td>\n",
       "      <td>6.09</td>\n",
       "    </tr>\n",
       "    <tr>\n",
       "      <th>63</th>\n",
       "      <td>142</td>\n",
       "      <td>67</td>\n",
       "      <td>560</td>\n",
       "      <td>7.20</td>\n",
       "    </tr>\n",
       "  </tbody>\n",
       "</table>\n",
       "<p>64 rows × 4 columns</p>\n",
       "</div>"
      ],
      "text/plain": [
       "     CM  FLR  PGNP   TFR\n",
       "0   128   37  1870  6.66\n",
       "1   204   22   130  6.15\n",
       "2   202   16   310  7.00\n",
       "3   197   65   570  6.25\n",
       "4    96   76  2050  3.81\n",
       "..  ...  ...   ...   ...\n",
       "59  115   62  1470  3.89\n",
       "60  186   45   300  6.90\n",
       "61   47   85  3630  4.10\n",
       "62  178   45   220  6.09\n",
       "63  142   67   560  7.20\n",
       "\n",
       "[64 rows x 4 columns]"
      ]
     },
     "execution_count": 3,
     "metadata": {},
     "output_type": "execute_result"
    }
   ],
   "source": [
    "df"
   ]
  },
  {
   "cell_type": "markdown",
   "id": "51e15f35",
   "metadata": {},
   "source": [
    "## Supuesto de numero de observaciones sea mayor al número de parametros."
   ]
  },
  {
   "cell_type": "markdown",
   "id": "23608c81",
   "metadata": {},
   "source": [
    "Basta con examinar las dimensions del DataFrame para determinar la cantidad máxima de parametros que podrían estimarse."
   ]
  },
  {
   "cell_type": "code",
   "execution_count": 4,
   "id": "80aecf4b",
   "metadata": {},
   "outputs": [
    {
     "data": {
      "text/plain": [
       "(64, 4)"
      ]
     },
     "execution_count": 4,
     "metadata": {},
     "output_type": "execute_result"
    }
   ],
   "source": [
    "df.shape"
   ]
  },
  {
   "cell_type": "markdown",
   "id": "2a245b1d",
   "metadata": {},
   "source": [
    "Para este caso el número maximo de parametros a estimar es 63."
   ]
  },
  {
   "cell_type": "markdown",
   "id": "615646a3",
   "metadata": {},
   "source": [
    " ¿Qué sucede si el número de observaciones es inferior al número de parámetros a estimar? “Si hay menos\n",
    " de k observaciones entonces X no puede ser de rango completo” \n",
    " Cuando ocurre esto la varianza es infinita y el método MCO no puede emplearse."
   ]
  },
  {
   "cell_type": "markdown",
   "id": "61192f55",
   "metadata": {},
   "source": [
    "## Supuesto de variación en los valores de las variables explicativas "
   ]
  },
  {
   "cell_type": "markdown",
   "id": "103364f9",
   "metadata": {},
   "source": [
    " Este supuesto nos dice que las variables explicativas deben ser \"variables\", \n",
    " es decir los valores de estas deben cambiar y no pueden corresponder a una misma constante."
   ]
  },
  {
   "cell_type": "code",
   "execution_count": 5,
   "id": "d6bdaeb5",
   "metadata": {},
   "outputs": [
    {
     "data": {
      "text/html": [
       "<div>\n",
       "<style scoped>\n",
       "    .dataframe tbody tr th:only-of-type {\n",
       "        vertical-align: middle;\n",
       "    }\n",
       "\n",
       "    .dataframe tbody tr th {\n",
       "        vertical-align: top;\n",
       "    }\n",
       "\n",
       "    .dataframe thead th {\n",
       "        text-align: right;\n",
       "    }\n",
       "</style>\n",
       "<table border=\"1\" class=\"dataframe\">\n",
       "  <thead>\n",
       "    <tr style=\"text-align: right;\">\n",
       "      <th></th>\n",
       "      <th>Desviación estándar</th>\n",
       "    </tr>\n",
       "  </thead>\n",
       "  <tbody>\n",
       "    <tr>\n",
       "      <th>CM</th>\n",
       "      <td>75.382151</td>\n",
       "    </tr>\n",
       "    <tr>\n",
       "      <th>FLR</th>\n",
       "      <td>25.803873</td>\n",
       "    </tr>\n",
       "    <tr>\n",
       "      <th>PGNP</th>\n",
       "      <td>2704.317439</td>\n",
       "    </tr>\n",
       "    <tr>\n",
       "      <th>TFR</th>\n",
       "      <td>1.497158</td>\n",
       "    </tr>\n",
       "  </tbody>\n",
       "</table>\n",
       "</div>"
      ],
      "text/plain": [
       "      Desviación estándar\n",
       "CM              75.382151\n",
       "FLR             25.803873\n",
       "PGNP          2704.317439\n",
       "TFR              1.497158"
      ]
     },
     "execution_count": 5,
     "metadata": {},
     "output_type": "execute_result"
    }
   ],
   "source": [
    "pd.DataFrame(df.apply(np.std, axis = 0),\n",
    "columns = [\"Desviación estándar\"])"
   ]
  },
  {
   "cell_type": "markdown",
   "id": "9b653965",
   "metadata": {},
   "source": [
    "Las desviaciones standar deben ser diferentes de 0."
   ]
  },
  {
   "cell_type": "markdown",
   "id": "0d0b1d13",
   "metadata": {},
   "source": [
    " “Si la desviación estándar muestral de las\n",
    "xi es cero, entonces el supuesto no se satisface; si no es así, este supuesto se satisface”"
   ]
  },
  {
   "cell_type": "markdown",
   "id": "10d35f01",
   "metadata": {},
   "source": [
    "## Supuesto de no multicolinealidad"
   ]
  },
  {
   "cell_type": "markdown",
   "id": "a500b1b0",
   "metadata": {},
   "source": [
    " Este supuesto trata sobre que la estructura del modelo no presente colinealidad exacta entra las variables explicativas."
   ]
  },
  {
   "cell_type": "markdown",
   "id": "2ed1ab1c",
   "metadata": {},
   "source": [
    " Uno de los métodos para poder detectarla es mediante el coeficiente de correlacion , tomando en consideración el modulo de\n",
    " estos valores. Si el modulo es mayor a 0.9 hay una fuerte colinealidad."
   ]
  },
  {
   "cell_type": "code",
   "execution_count": 6,
   "id": "45d4b8be",
   "metadata": {},
   "outputs": [
    {
     "data": {
      "text/html": [
       "<div>\n",
       "<style scoped>\n",
       "    .dataframe tbody tr th:only-of-type {\n",
       "        vertical-align: middle;\n",
       "    }\n",
       "\n",
       "    .dataframe tbody tr th {\n",
       "        vertical-align: top;\n",
       "    }\n",
       "\n",
       "    .dataframe thead th {\n",
       "        text-align: right;\n",
       "    }\n",
       "</style>\n",
       "<table border=\"1\" class=\"dataframe\">\n",
       "  <thead>\n",
       "    <tr style=\"text-align: right;\">\n",
       "      <th></th>\n",
       "      <th>CM</th>\n",
       "      <th>FLR</th>\n",
       "      <th>PGNP</th>\n",
       "      <th>TFR</th>\n",
       "    </tr>\n",
       "  </thead>\n",
       "  <tbody>\n",
       "    <tr>\n",
       "      <th>CM</th>\n",
       "      <td>1.000000</td>\n",
       "      <td>-0.818285</td>\n",
       "      <td>-0.407697</td>\n",
       "      <td>0.671135</td>\n",
       "    </tr>\n",
       "    <tr>\n",
       "      <th>FLR</th>\n",
       "      <td>-0.818285</td>\n",
       "      <td>1.000000</td>\n",
       "      <td>0.268530</td>\n",
       "      <td>-0.625954</td>\n",
       "    </tr>\n",
       "    <tr>\n",
       "      <th>PGNP</th>\n",
       "      <td>-0.407697</td>\n",
       "      <td>0.268530</td>\n",
       "      <td>1.000000</td>\n",
       "      <td>-0.185718</td>\n",
       "    </tr>\n",
       "    <tr>\n",
       "      <th>TFR</th>\n",
       "      <td>0.671135</td>\n",
       "      <td>-0.625954</td>\n",
       "      <td>-0.185718</td>\n",
       "      <td>1.000000</td>\n",
       "    </tr>\n",
       "  </tbody>\n",
       "</table>\n",
       "</div>"
      ],
      "text/plain": [
       "            CM       FLR      PGNP       TFR\n",
       "CM    1.000000 -0.818285 -0.407697  0.671135\n",
       "FLR  -0.818285  1.000000  0.268530 -0.625954\n",
       "PGNP -0.407697  0.268530  1.000000 -0.185718\n",
       "TFR   0.671135 -0.625954 -0.185718  1.000000"
      ]
     },
     "execution_count": 6,
     "metadata": {},
     "output_type": "execute_result"
    }
   ],
   "source": [
    "df.corr()"
   ]
  },
  {
   "cell_type": "code",
   "execution_count": 7,
   "id": "b38f7671",
   "metadata": {},
   "outputs": [
    {
     "data": {
      "image/png": "[encoded data removed]",
      "text/plain": [
       "<Figure size 576x432 with 1 Axes>"
      ]
     },
     "metadata": {},
     "output_type": "display_data"
    }
   ],
   "source": [
    "fig, ax = plt.subplots(nrows=1, ncols=1, figsize=(8, 6))\n",
    "\n",
    "sns.heatmap(\n",
    "    df.corr(),\n",
    "    annot     = True,\n",
    "    cbar      = False,\n",
    "    annot_kws = {\"size\": 8},\n",
    "    vmin      = -1,\n",
    "    vmax      = 1,\n",
    "    center    = 0,\n",
    "    cmap      = \"RdYlGn\",\n",
    "    square    = True,\n",
    "    ax        = ax\n",
    ")\n",
    "\n",
    "ax.set_xticklabels(\n",
    "    ax.get_xticklabels(),\n",
    "    rotation = 45,\n",
    "    horizontalalignment = 'right',\n",
    ")\n",
    "\n",
    "ax.tick_params(labelsize = 10)"
   ]
  },
  {
   "cell_type": "markdown",
   "id": "a2980c37",
   "metadata": {},
   "source": [
    " Hay una alta correlación entre CM y FLR, pero no pasa nada, la importancia de esto, es que no debe haber una alta correlacion\n",
    " entre las variables explicativas."
   ]
  },
  {
   "cell_type": "markdown",
   "id": "579613e3",
   "metadata": {},
   "source": [
    " Para este caso en especifico, ninguna de las variables independientes presenta una alta correlacion, por lo que\n",
    " no se presenta una correlacion muy fuerte, no se presente multicolinealidad perfecta y es posible estimar los parametros"
   ]
  },
  {
   "cell_type": "markdown",
   "id": "c34fbb3a",
   "metadata": {},
   "source": [
    "### Calculo de multicolinealidad mediante VIF"
   ]
  },
  {
   "cell_type": "markdown",
   "id": "303b6726",
   "metadata": {},
   "source": [
    "$  VIF = \\frac{\\sigma^{2}\\cdot (n-1)\\cdot Stda Error^2}{PP Residuos}\t $ \n",
    "- N : Numero de observaciones.\n",
    "- $\\sigma^{2} $ : Varianza de la variable.\n",
    "- $ Stda Error^2 $ : Error Estandar del Coef. de la variable dependiente.\n",
    "- $ PP Residuos $ : Varianza de los Residuos. "
   ]
  },
  {
   "cell_type": "markdown",
   "id": "8b579b88",
   "metadata": {},
   "source": [
    " El Factor de Inflación de Varianza (VIF), nos dice que : \n",
    "   “VIFs altos reflejan un incremento en las varianzas de los coeficientes de regresión\n",
    "   estimados debido a colinealidad entre variables predictoras, en comparación con las que se obtendrían cuando\n",
    "    las predictoras son ortogonales”"
   ]
  },
  {
   "cell_type": "code",
   "execution_count": 8,
   "id": "6fdb77c6",
   "metadata": {},
   "outputs": [
    {
     "data": {
      "text/html": [
       "<div>\n",
       "<style scoped>\n",
       "    .dataframe tbody tr th:only-of-type {\n",
       "        vertical-align: middle;\n",
       "    }\n",
       "\n",
       "    .dataframe tbody tr th {\n",
       "        vertical-align: top;\n",
       "    }\n",
       "\n",
       "    .dataframe thead th {\n",
       "        text-align: right;\n",
       "    }\n",
       "</style>\n",
       "<table border=\"1\" class=\"dataframe\">\n",
       "  <thead>\n",
       "    <tr style=\"text-align: right;\">\n",
       "      <th></th>\n",
       "      <th>VIF</th>\n",
       "    </tr>\n",
       "  </thead>\n",
       "  <tbody>\n",
       "    <tr>\n",
       "      <th>FLR</th>\n",
       "      <td>1.711845</td>\n",
       "    </tr>\n",
       "    <tr>\n",
       "      <th>PGNP</th>\n",
       "      <td>1.078306</td>\n",
       "    </tr>\n",
       "    <tr>\n",
       "      <th>TFR</th>\n",
       "      <td>1.645150</td>\n",
       "    </tr>\n",
       "  </tbody>\n",
       "</table>\n",
       "</div>"
      ],
      "text/plain": [
       "           VIF\n",
       "FLR   1.711845\n",
       "PGNP  1.078306\n",
       "TFR   1.645150"
      ]
     },
     "execution_count": 8,
     "metadata": {},
     "output_type": "execute_result"
    }
   ],
   "source": [
    "from statsmodels.stats.outliers_influence import variance_inflation_factor\n",
    "vif = []\n",
    "exog = sm.add_constant(df[df.columns[1:4]])\n",
    "rango = sm.add_constant(df[df.columns[1:4]]).shape[1]\n",
    "for i in range(rango):\n",
    "    vif.append(variance_inflation_factor(exog.values, i))\n",
    "pd.DataFrame({'VIF': vif[1:]}, index= df.columns[1:4])\n",
    "# vif 10 mucho"
   ]
  },
  {
   "cell_type": "markdown",
   "id": "24cfe6f4",
   "metadata": {},
   "source": [
    "Ninguna de las variables presenta un VIF elevado, por lo que no se sugier que alguna de stas variables de muy colineal."
   ]
  },
  {
   "cell_type": "markdown",
   "id": "ebb9c560",
   "metadata": {},
   "source": [
    "## Supuesto de No sesgo de especificación."
   ]
  },
  {
   "cell_type": "markdown",
   "id": "d5493aad",
   "metadata": {},
   "source": [
    "La forma funcional que adopta el modelo debe ser la correcta, y las variables incluidas son adecuadas."
   ]
  },
  {
   "cell_type": "markdown",
   "id": "84019dd0",
   "metadata": {},
   "source": [
    "Se puede examinar Visualmente si la forma funcional adoptada es la adecuada mediante graficos, tales como un diagrama\n",
    "de dispersión con los valores estimados contra los residuos, esperandose un comportamiento relativamente estable, con los puntos, distribuidos simetricamente alrededor del 0."
   ]
  },
  {
   "cell_type": "code",
   "execution_count": 9,
   "id": "1b9da7ca",
   "metadata": {},
   "outputs": [
    {
     "name": "stdout",
     "output_type": "stream",
     "text": [
      "                            OLS Regression Results                            \n",
      "==============================================================================\n",
      "Dep. Variable:                     CM   R-squared:                       0.708\n",
      "Model:                            OLS   Adj. R-squared:                  0.698\n",
      "Method:                 Least Squares   F-statistic:                     73.83\n",
      "Date:                Fri, 12 Aug 2022   Prob (F-statistic):           5.12e-17\n",
      "Time:                        17:44:27   Log-Likelihood:                -328.10\n",
      "No. Observations:                  64   AIC:                             662.2\n",
      "Df Residuals:                      61   BIC:                             668.7\n",
      "Df Model:                           2                                         \n",
      "Covariance Type:            nonrobust                                         \n",
      "==============================================================================\n",
      "                 coef    std err          t      P>|t|      [0.025      0.975]\n",
      "------------------------------------------------------------------------------\n",
      "const        263.6416     11.593     22.741      0.000     240.460     286.824\n",
      "PGNP          -0.0056      0.002     -2.819      0.006      -0.010      -0.002\n",
      "FLR           -2.2316      0.210    -10.629      0.000      -2.651      -1.812\n",
      "==============================================================================\n",
      "Omnibus:                        0.732   Durbin-Watson:                   2.186\n",
      "Prob(Omnibus):                  0.693   Jarque-Bera (JB):                0.559\n",
      "Skew:                           0.228   Prob(JB):                        0.756\n",
      "Kurtosis:                       2.949   Cond. No.                     6.77e+03\n",
      "==============================================================================\n",
      "\n",
      "Notes:\n",
      "[1] Standard Errors assume that the covariance matrix of the errors is correctly specified.\n",
      "[2] The condition number is large, 6.77e+03. This might indicate that there are\n",
      "strong multicollinearity or other numerical problems.\n"
     ]
    }
   ],
   "source": [
    "# Se construirá un modelo y se estimará.\n",
    "Y = df[\"CM\"]\n",
    "X = df[[\"PGNP\", \"FLR\"]]\n",
    "Modelo = sm.OLS(Y, sm.add_constant(X))\n",
    "Resultados = Modelo.fit()\n",
    "print(Resultados.summary())"
   ]
  },
  {
   "cell_type": "code",
   "execution_count": 10,
   "id": "2f6fbb08",
   "metadata": {},
   "outputs": [],
   "source": [
    "# Se obtendrán los residuos\n",
    "Residuos = Resultados.resid\n",
    "\n",
    "# Asignar valores estimados que se obtienen con la aplicacion del modelo con .predict()\n",
    "\n",
    "Valores_estimados = Resultados.predict()"
   ]
  },
  {
   "cell_type": "code",
   "execution_count": 11,
   "id": "07eebe42",
   "metadata": {},
   "outputs": [
    {
     "data": {
      "image/png": "[encoded data removed]",
      "text/plain": [
       "<Figure size 576x432 with 1 Axes>"
      ]
     },
     "metadata": {},
     "output_type": "display_data"
    }
   ],
   "source": [
    "fig, ax = plt.subplots(figsize = (8,6))\n",
    "fig.suptitle(\"Valores estimados vs.\\nResiduos\",\n",
    "fontsize = 18,\n",
    "fontweight = \"bold\")\n",
    "ax.scatter(Valores_estimados, Residuos,\n",
    "color = \"darkblue\")\n",
    "ax.set_xlabel(\"Valores estimados\", fontsize = 15)\n",
    "ax.set_ylabel(\"Residuos\", fontsize = 15)\n",
    "ax.tick_params(labelsize = 13)\n",
    "\n",
    "plt.show()"
   ]
  },
  {
   "cell_type": "markdown",
   "id": "672dcae9",
   "metadata": {},
   "source": [
    "No se presenta un patrón especifico y los puntos están simetriamente disitrbuidos alreador del 0, se sugiere que la forma\n",
    "funcional adoptada no es erronea.\n"
   ]
  },
  {
   "cell_type": "markdown",
   "id": "49f51c4f",
   "metadata": {},
   "source": [
    "La estructura del modelo, se debe mantener a lo largo de la estimación (Que no sea inestable). Para verificar esto se realizará\n",
    "la pruebna CUSUM basada en los residuos.\n",
    "\n",
    "Se tomará como Hipotesis nula el no cambio estructural."
   ]
  },
  {
   "cell_type": "code",
   "execution_count": 12,
   "id": "9f7f421a",
   "metadata": {},
   "outputs": [
    {
     "name": "stdout",
     "output_type": "stream",
     "text": [
      "(0.5191974341185248, 0.950322770591811, [(1, 1.63), (5, 1.36), (10, 1.22)])\n"
     ]
    }
   ],
   "source": [
    "ResultadosTest = sms.breaks_cusumolsresid(Residuos)\n",
    "print(ResultadosTest)"
   ]
  },
  {
   "cell_type": "code",
   "execution_count": 13,
   "id": "06588acf",
   "metadata": {
    "scrolled": true
   },
   "outputs": [
    {
     "data": {
      "text/plain": [
       "Estadístico                                          0.519197\n",
       "p-value del estadístico                              0.950323\n",
       "Valores críticos           [(1, 1.63), (5, 1.36), (10, 1.22)]\n",
       "dtype: object"
      ]
     },
     "execution_count": 13,
     "metadata": {},
     "output_type": "execute_result"
    }
   ],
   "source": [
    "Nombres = [\"Estadístico\", \"p-value del estadístico\", \"Valores críticos\"]\n",
    "pd.Series(ResultadosTest, index = Nombres)\n"
   ]
  },
  {
   "cell_type": "markdown",
   "id": "2887d031",
   "metadata": {},
   "source": [
    "Con un nivel de significacia al 5%, no se rechaza la hipotesis nula, y se concluyeque no se presenta un cambio estructural."
   ]
  },
  {
   "cell_type": "markdown",
   "id": "c853c033",
   "metadata": {},
   "source": [
    "## Valor medio de la perturbación igual a 0."
   ]
  },
  {
   "cell_type": "markdown",
   "id": "3a268721",
   "metadata": {},
   "source": [
    "Los residuos pueden tener tantos valores positivos omo negativos, pero la distribución de estos debe ser reletivamente \n",
    "simetrica.\n",
    "Para verificar este supuesto basta con obtener la media"
   ]
  },
  {
   "cell_type": "code",
   "execution_count": 14,
   "id": "51b291d5",
   "metadata": {
    "scrolled": true
   },
   "outputs": [
    {
     "data": {
      "text/plain": [
       "-7.105427357601002e-15"
      ]
     },
     "execution_count": 14,
     "metadata": {},
     "output_type": "execute_result"
    }
   ],
   "source": [
    "np.mean(Residuos)"
   ]
  },
  {
   "cell_type": "markdown",
   "id": "aaa39b12",
   "metadata": {},
   "source": [
    "Es practicamente 0, por lo que este supuesto se cumple para el ejemplo."
   ]
  },
  {
   "cell_type": "markdown",
   "id": "004d5f88",
   "metadata": {},
   "source": [
    "## Homoscedasticidad"
   ]
  },
  {
   "cell_type": "markdown",
   "id": "478dec2f",
   "metadata": {},
   "source": [
    "Se debe exhibir varianza constante."
   ]
  },
  {
   "cell_type": "markdown",
   "id": "43513665",
   "metadata": {},
   "source": [
    "La homocedasticidad es una propiedad deseable de los errores de un modelo de regresión simple. La homocedasticidad, como hemos dicho anteriormente, nos permite realizar modelos más fiables. Y esa fiabilidad se ve reflejada en que sea mucho más fácil para los económetras trabajar con el modelo."
   ]
  },
  {
   "cell_type": "markdown",
   "id": "601ef908",
   "metadata": {},
   "source": [
    "Una de las pruebas estadísticas generalmente empleadas para verificar la presencia de heteroscedasticidad\n",
    "es el Test Breusch-Pagan de Multiplicadores de Lagrange (Greene, 2003), el cual, básicamente, toma como\n",
    "hipótesis nula homoscedasticidad.\n"
   ]
  },
  {
   "cell_type": "code",
   "execution_count": 15,
   "id": "2f8f18a6",
   "metadata": {},
   "outputs": [],
   "source": [
    "Explicativas = Resultados.model.exog"
   ]
  },
  {
   "cell_type": "code",
   "execution_count": 16,
   "id": "95845636",
   "metadata": {
    "scrolled": true
   },
   "outputs": [
    {
     "data": {
      "text/plain": [
       "Estadístico LM                1.591582\n",
       "p-value del estadístico LM    0.451224\n",
       "Estadístico F                 0.777832\n",
       "p-value del estadístico F     0.463904\n",
       "dtype: float64"
      ]
     },
     "execution_count": 16,
     "metadata": {},
     "output_type": "execute_result"
    }
   ],
   "source": [
    "ResultadosTest = sms.het_breuschpagan(Residuos, Explicativas)\n",
    "Nombres = [\"Estadístico LM\", \"p-value del estadístico LM\", \"Estadístico F\",\n",
    "\"p-value del estadístico F\"]\n",
    "pd.Series(ResultadosTest, index = Nombres)"
   ]
  },
  {
   "cell_type": "markdown",
   "id": "53ccca73",
   "metadata": {},
   "source": [
    "Asumiendo un nivel de significancia de 5 %, como p − value > α entonces no se rechaza la hipótesis nula\n",
    "y se concluye que se presenta homoscedasticidad en el término de error"
   ]
  },
  {
   "cell_type": "markdown",
   "id": "71eddd89",
   "metadata": {},
   "source": [
    "Otra de las pruebas estadísticas comúnmente empleadas para verificar la presencia de heteroscedasticidad\n",
    "es el TestWhite de Multiplicadores de Lagrange, el cual hace uso de regresiones auxiliares, toma, esencialmente,\n",
    "como hipótesis nula homoscedasticidad."
   ]
  },
  {
   "cell_type": "code",
   "execution_count": 17,
   "id": "7547781b",
   "metadata": {},
   "outputs": [
    {
     "data": {
      "text/plain": [
       "Estadístico LM                2.356718\n",
       "p-value del estadístico LM    0.797902\n",
       "Estadístico F                 0.443486\n",
       "p-value del estadístico F     0.816252\n",
       "dtype: float64"
      ]
     },
     "execution_count": 17,
     "metadata": {},
     "output_type": "execute_result"
    }
   ],
   "source": [
    "ResultadosTest = sms.het_white(Residuos, Explicativas)\n",
    "Nombres = [\"Estadístico LM\", \"p-value del estadístico LM\",\n",
    "\"Estadístico F\", \"p-value del estadístico F\"]\n",
    "pd.Series(ResultadosTest, index = Nombres)\n"
   ]
  },
  {
   "cell_type": "markdown",
   "id": "4abdde1b",
   "metadata": {},
   "source": [
    "Asumiendo un nivel de significancia de 5 %, como\n",
    "p − value > α entonces no se rechaza la hipótesis nula y se concluye que se presenta homoscedasticidad en\n",
    "el término de error"
   ]
  },
  {
   "cell_type": "markdown",
   "id": "6f222c93",
   "metadata": {},
   "source": [
    "## No Autocorrelacion, o correlación serial entre las perturbaciones."
   ]
  },
  {
   "cell_type": "markdown",
   "id": "e337b9eb",
   "metadata": {},
   "source": [
    "El supuesto de no autocorrelación entre las perturbaciones indica que estas no siguen patrones sistemáticos\n",
    "y no están correlacionadas entre sí; tal supuesto puede justificarse para el caso de datos transversales, pero\n",
    "tiende a incumplirse cuando se trabaja con series de tiempo, en cuanto las observaciones sucesivas usualmente\n",
    "están fuertemente correlacionada."
   ]
  },
  {
   "cell_type": "markdown",
   "id": "0905a2ac",
   "metadata": {},
   "source": [
    "### Test de durbin-watson"
   ]
  },
  {
   "cell_type": "markdown",
   "id": "6cf6d12d",
   "metadata": {},
   "source": [
    "Se vereficará mediante el test de Dubin-Watson, el cual toma como hipotesis nula no autocorrelación."
   ]
  },
  {
   "cell_type": "code",
   "execution_count": 18,
   "id": "76deed29",
   "metadata": {},
   "outputs": [
    {
     "data": {
      "text/plain": [
       "Estadístico DW    2.186159\n",
       "dtype: float64"
      ]
     },
     "execution_count": 18,
     "metadata": {},
     "output_type": "execute_result"
    }
   ],
   "source": [
    "ResultadosTest = sms.durbin_watson(Residuos)\n",
    "Nombres = [\"Estadístico DW\"]\n",
    "pd.Series(ResultadosTest, index = Nombres)"
   ]
  },
  {
   "cell_type": "markdown",
   "id": "fc9f18e5",
   "metadata": {},
   "source": [
    "A diferencia del resto, esto no se reporta con un p-value"
   ]
  },
  {
   "cell_type": "markdown",
   "id": "e091e630",
   "metadata": {},
   "source": [
    "El estadístico Durbin-Watson es contrastado con valores críticos a partir de los cuales se establecen zonas\n",
    "de autocorrelación positiva, no autocorrelación, indeterminación y autocorrelación negativa; dependiendo de\n",
    "la zona en la que se ubique el valor del estadístico, se obtiene una conclusión específica.\n"
   ]
  },
  {
   "cell_type": "markdown",
   "id": "d864ffe7",
   "metadata": {},
   "source": [
    "\n",
    "![Durbin](Durbin.png)"
   ]
  },
  {
   "cell_type": "markdown",
   "id": "13cdd7f9",
   "metadata": {},
   "source": [
    "[De aqui se sacan las tablas](https://support.minitab.com/es-mx/minitab/18/help-and-how-to/modeling-statistics/regression/supporting-topics/model-assumptions/test-for-autocorrelation-by-using-the-durbin-watson-statistic/)"
   ]
  },
  {
   "cell_type": "code",
   "execution_count": 19,
   "id": "f6ec8a50",
   "metadata": {},
   "outputs": [],
   "source": [
    "dl =  1.536\n",
    "du = 1.662\n",
    "d = 2.1861"
   ]
  },
  {
   "cell_type": "code",
   "execution_count": 20,
   "id": "194792da",
   "metadata": {},
   "outputs": [
    {
     "data": {
      "text/plain": [
       "False"
      ]
     },
     "execution_count": 20,
     "metadata": {},
     "output_type": "execute_result"
    }
   ],
   "source": [
    "0 < d < dl"
   ]
  },
  {
   "cell_type": "code",
   "execution_count": 21,
   "id": "31e00563",
   "metadata": {},
   "outputs": [
    {
     "data": {
      "text/plain": [
       "False"
      ]
     },
     "execution_count": 21,
     "metadata": {},
     "output_type": "execute_result"
    }
   ],
   "source": [
    "dl < d < du"
   ]
  },
  {
   "cell_type": "code",
   "execution_count": 22,
   "id": "6606f03d",
   "metadata": {},
   "outputs": [
    {
     "data": {
      "text/plain": [
       "False"
      ]
     },
     "execution_count": 22,
     "metadata": {},
     "output_type": "execute_result"
    }
   ],
   "source": [
    "(4 - dl) < d < 4"
   ]
  },
  {
   "cell_type": "code",
   "execution_count": 23,
   "id": "0cdae2f4",
   "metadata": {},
   "outputs": [
    {
     "data": {
      "text/plain": [
       "False"
      ]
     },
     "execution_count": 23,
     "metadata": {},
     "output_type": "execute_result"
    }
   ],
   "source": [
    "(4 - du) < d < (4-dl)"
   ]
  },
  {
   "cell_type": "code",
   "execution_count": 24,
   "id": "0687d4ae",
   "metadata": {},
   "outputs": [
    {
     "data": {
      "text/plain": [
       "True"
      ]
     },
     "execution_count": 24,
     "metadata": {},
     "output_type": "execute_result"
    }
   ],
   "source": [
    "du < d < (4-du)"
   ]
  },
  {
   "cell_type": "markdown",
   "id": "afeee6bc",
   "metadata": {},
   "source": [
    "A través del test anterior , no rechazamos la hipotesis, y no hay autocrrelacion positiva o negativa."
   ]
  },
  {
   "cell_type": "markdown",
   "id": "6be82ddf",
   "metadata": {},
   "source": [
    "### Test Breusch-Godfrey"
   ]
  },
  {
   "cell_type": "markdown",
   "id": "81bc63c0",
   "metadata": {},
   "source": [
    " Test Breusch-Godfrey, el cual toma, esencialmente, no autocorrelación como hipótesis\n",
    "nula y se basa en la ejecución de una regresión auxiliar en la que se incluyen rezagos del término de error como\n",
    "variables explicativas "
   ]
  },
  {
   "cell_type": "code",
   "execution_count": 25,
   "id": "c02ee13c",
   "metadata": {
    "scrolled": true
   },
   "outputs": [
    {
     "data": {
      "text/plain": [
       "Estadístico LM                0.728605\n",
       "p-value del estadístico LM    0.393336\n",
       "Estadístico F                 0.690933\n",
       "p-value del estadístico F     0.409143\n",
       "dtype: float64"
      ]
     },
     "execution_count": 25,
     "metadata": {},
     "output_type": "execute_result"
    }
   ],
   "source": [
    "ResultadosTest = sms.acorr_breusch_godfrey(Resultados, nlags = 1)\n",
    "Nombres = [\"Estadístico LM\", \"p-value del estadístico LM\", \"Estadístico F\",\n",
    "\"p-value del estadístico F\"]\n",
    "pd.Series(ResultadosTest, index = Nombres)\n"
   ]
  },
  {
   "cell_type": "markdown",
   "id": "836b5e0e",
   "metadata": {},
   "source": [
    "no se rechaza la hipótesis nula y se concluye que no se presenta\n",
    "correlación serial de primer orden en el término de error"
   ]
  },
  {
   "cell_type": "code",
   "execution_count": 26,
   "id": "f6ca8bb6",
   "metadata": {},
   "outputs": [
    {
     "data": {
      "text/plain": [
       "Estadístico LM                1.211387\n",
       "p-value del estadístico LM    0.876220\n",
       "Estadístico F                 0.274927\n",
       "p-value del estadístico F     0.892978\n",
       "dtype: float64"
      ]
     },
     "execution_count": 26,
     "metadata": {},
     "output_type": "execute_result"
    }
   ],
   "source": [
    "ResultadosTest = sms.acorr_breusch_godfrey(Resultados, nlags = 4)\n",
    "Nombres = [\"Estadístico LM\", \"p-value del estadístico LM\", \"Estadístico F\",\n",
    "\"p-value del estadístico F\"]\n",
    "pd.Series(ResultadosTest, index = Nombres)\n"
   ]
  },
  {
   "cell_type": "markdown",
   "id": "7bb4cff8",
   "metadata": {},
   "source": [
    "Se concluye que no hay correlación serial hasta de orden\n",
    "4 "
   ]
  },
  {
   "cell_type": "markdown",
   "id": "5ab2a052",
   "metadata": {},
   "source": [
    "## Supuesto de normalidad"
   ]
  },
  {
   "cell_type": "markdown",
   "id": "62ebb8b7",
   "metadata": {},
   "source": [
    "El supuesto de normalidad en los errores hacen referencia que la distribuciones de los errores deberían\n",
    "ser normales, y su existencia viene justificada por la necesidad de llevar a cabo inferencia estadisitca."
   ]
  },
  {
   "cell_type": "markdown",
   "id": "c9508fcc",
   "metadata": {},
   "source": [
    "### Test Jarque-Bera"
   ]
  },
  {
   "cell_type": "markdown",
   "id": "7bf434b3",
   "metadata": {},
   "source": [
    "Una de las pruebas estadísticas más populares empleadas para verificar el cumplimiento de normalidad en\n",
    "la distribución del término de error es el Test Jarque-Bera, el cual se basa en la asimetría y la curtosis.  Toma como hipótesis nula, básicamente, distribución normal."
   ]
  },
  {
   "cell_type": "code",
   "execution_count": 27,
   "id": "d27d18c4",
   "metadata": {},
   "outputs": [
    {
     "data": {
      "text/plain": [
       "Jarque-Bera    0.559405\n",
       "p-value        0.756009\n",
       "Asimetría      0.227575\n",
       "Curtosis       2.948855\n",
       "dtype: float64"
      ]
     },
     "execution_count": 27,
     "metadata": {},
     "output_type": "execute_result"
    }
   ],
   "source": [
    "\n",
    "ResultadosTest = sms.jarque_bera(Residuos)\n",
    "Nombres = [\"Jarque-Bera\", \"p-value\", \"Asimetría\", \"Curtosis\"]\n",
    "pd.Series(ResultadosTest, index = Nombres)\n"
   ]
  },
  {
   "cell_type": "markdown",
   "id": "91f0b73e",
   "metadata": {},
   "source": [
    "No se rechaza la hipótesis nula\n",
    "y se concluye que se presenta normalidad en la distribución del término de error"
   ]
  },
  {
   "cell_type": "markdown",
   "id": "7fd8f702",
   "metadata": {},
   "source": [
    "Otra forma es mediante el grafico cuantil-cuantil.\n",
    "### Grafico cuantil-cuantil"
   ]
  },
  {
   "cell_type": "code",
   "execution_count": 28,
   "id": "356f878c",
   "metadata": {},
   "outputs": [
    {
     "data": {
      "image/png": "[encoded data removed]",
      "text/plain": [
       "<Figure size 576x432 with 1 Axes>"
      ]
     },
     "metadata": {},
     "output_type": "display_data"
    }
   ],
   "source": [
    "fig, ax = plt.subplots(figsize = (8,6))\n",
    "fig.suptitle(\"Q-Q Plot\", size = 20,\n",
    "fontweight = \"bold\")\n",
    "sm.qqplot(Residuos, ax = ax, line = \"s\",\n",
    "\n",
    "color = \"darkblue\")\n",
    "ax.set_xlabel(\"Cuantiles teóricos\", fontsize = 14)\n",
    "ax.set_ylabel(\"Cuantiles muestrales\", fontsize = 14)\n",
    "\n",
    "plt.show()\n"
   ]
  },
  {
   "cell_type": "markdown",
   "id": "fde09c84",
   "metadata": {},
   "source": [
    "Como se observa, la mayoría de puntos se sitúa muy cerca de la línea roja de referencia, indicador de que\n",
    "la distribución de los datos no dista mucho de la teórica (la normal)."
   ]
  },
  {
   "cell_type": "markdown",
   "id": "55623d32",
   "metadata": {},
   "source": [
    "Parte de este script fue basado en \"Econometría básica con Python\" , escrito por Fabián Alejandro Triana Alarcón"
   ]
  },
  {
   "cell_type": "code",
   "execution_count": null,
   "id": "e44f4e50",
   "metadata": {},
   "outputs": [],
   "source": []
  }
 ],
 "metadata": {
  "kernelspec": {
   "display_name": "Python 3 (ipykernel)",
   "language": "python",
   "name": "python3"
  },
  "language_info": {
   "codemirror_mode": {
    "name": "ipython",
    "version": 3
   },
   "file_extension": ".py",
   "mimetype": "text/x-python",
   "name": "python",
   "nbconvert_exporter": "python",
   "pygments_lexer": "ipython3",
   "version": "3.9.12"
  }
 },
 "nbformat": 4,
 "nbformat_minor": 5
}
