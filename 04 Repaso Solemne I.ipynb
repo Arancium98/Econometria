{
 "cells": [
  {
   "cell_type": "markdown",
   "id": "45c73eb6",
   "metadata": {},
   "source": [
    "# Repaso Solemne I"
   ]
  },
  {
   "cell_type": "markdown",
   "id": "9675f19c",
   "metadata": {},
   "source": [
    "Para este repaso, se considera una base dividida en 2.\n",
    "Esta base consiste en el rendimiento promedio de estudiantes. Las variables son :\n",
    "\n",
    "- rdm: Rendimiento.\n",
    "- Genero: Genero, pudiendo tomar los valores de Hombre y Mujer.\n",
    "- pgen: Promedio General.\n",
    "- ingf: Ingreso Familiar.\n",
    "- nfam: El número de integrantes en la familia.\n",
    "- tocio: Las horas de ocio.\n"
   ]
  },
  {
   "cell_type": "markdown",
   "id": "5e170adb",
   "metadata": {},
   "source": [
    "## Carga de datos"
   ]
  },
  {
   "cell_type": "code",
   "execution_count": 1,
   "id": "04f569db",
   "metadata": {},
   "outputs": [],
   "source": [
    "import pandas as pd\n",
    "%matplotlib inline\n",
    "df1 = pd.read_csv(\"datasets/Base1.csv\") \n",
    "df2 = pd.read_csv('datasets/Base2.csv')"
   ]
  },
  {
   "cell_type": "code",
   "execution_count": 2,
   "id": "9d0d1b92",
   "metadata": {
    "scrolled": true
   },
   "outputs": [
    {
     "data": {
      "text/html": [
       "<div>\n",
       "<style scoped>\n",
       "    .dataframe tbody tr th:only-of-type {\n",
       "        vertical-align: middle;\n",
       "    }\n",
       "\n",
       "    .dataframe tbody tr th {\n",
       "        vertical-align: top;\n",
       "    }\n",
       "\n",
       "    .dataframe thead th {\n",
       "        text-align: right;\n",
       "    }\n",
       "</style>\n",
       "<table border=\"1\" class=\"dataframe\">\n",
       "  <thead>\n",
       "    <tr style=\"text-align: right;\">\n",
       "      <th></th>\n",
       "      <th>ID</th>\n",
       "      <th>rdm</th>\n",
       "      <th>Genero</th>\n",
       "      <th>pgen</th>\n",
       "    </tr>\n",
       "  </thead>\n",
       "  <tbody>\n",
       "    <tr>\n",
       "      <th>0</th>\n",
       "      <td>1</td>\n",
       "      <td>124</td>\n",
       "      <td>Hombre</td>\n",
       "      <td>7.0</td>\n",
       "    </tr>\n",
       "    <tr>\n",
       "      <th>1</th>\n",
       "      <td>2</td>\n",
       "      <td>267</td>\n",
       "      <td>Mujer</td>\n",
       "      <td>12.0</td>\n",
       "    </tr>\n",
       "    <tr>\n",
       "      <th>2</th>\n",
       "      <td>3</td>\n",
       "      <td>193</td>\n",
       "      <td>Mujer</td>\n",
       "      <td>9.0</td>\n",
       "    </tr>\n",
       "    <tr>\n",
       "      <th>3</th>\n",
       "      <td>4</td>\n",
       "      <td>122</td>\n",
       "      <td>Hombre</td>\n",
       "      <td>4.0</td>\n",
       "    </tr>\n",
       "    <tr>\n",
       "      <th>4</th>\n",
       "      <td>5</td>\n",
       "      <td>134</td>\n",
       "      <td>Hombre</td>\n",
       "      <td>7.0</td>\n",
       "    </tr>\n",
       "    <tr>\n",
       "      <th>...</th>\n",
       "      <td>...</td>\n",
       "      <td>...</td>\n",
       "      <td>...</td>\n",
       "      <td>...</td>\n",
       "    </tr>\n",
       "    <tr>\n",
       "      <th>195</th>\n",
       "      <td>196</td>\n",
       "      <td>215</td>\n",
       "      <td>Hombre</td>\n",
       "      <td>11.0</td>\n",
       "    </tr>\n",
       "    <tr>\n",
       "      <th>196</th>\n",
       "      <td>197</td>\n",
       "      <td>138</td>\n",
       "      <td>Mujer</td>\n",
       "      <td>11.0</td>\n",
       "    </tr>\n",
       "    <tr>\n",
       "      <th>197</th>\n",
       "      <td>198</td>\n",
       "      <td>189</td>\n",
       "      <td>Hombre</td>\n",
       "      <td>7.0</td>\n",
       "    </tr>\n",
       "    <tr>\n",
       "      <th>198</th>\n",
       "      <td>199</td>\n",
       "      <td>109</td>\n",
       "      <td>Mujer</td>\n",
       "      <td>6.0</td>\n",
       "    </tr>\n",
       "    <tr>\n",
       "      <th>199</th>\n",
       "      <td>200</td>\n",
       "      <td>214</td>\n",
       "      <td>Hombre</td>\n",
       "      <td>4.0</td>\n",
       "    </tr>\n",
       "  </tbody>\n",
       "</table>\n",
       "<p>200 rows × 4 columns</p>\n",
       "</div>"
      ],
      "text/plain": [
       "      ID  rdm  Genero  pgen\n",
       "0      1  124  Hombre   7.0\n",
       "1      2  267   Mujer  12.0\n",
       "2      3  193   Mujer   9.0\n",
       "3      4  122  Hombre   4.0\n",
       "4      5  134  Hombre   7.0\n",
       "..   ...  ...     ...   ...\n",
       "195  196  215  Hombre  11.0\n",
       "196  197  138   Mujer  11.0\n",
       "197  198  189  Hombre   7.0\n",
       "198  199  109   Mujer   6.0\n",
       "199  200  214  Hombre   4.0\n",
       "\n",
       "[200 rows x 4 columns]"
      ]
     },
     "execution_count": 2,
     "metadata": {},
     "output_type": "execute_result"
    }
   ],
   "source": [
    "df1"
   ]
  },
  {
   "cell_type": "code",
   "execution_count": 3,
   "id": "eec12ffb",
   "metadata": {
    "scrolled": false
   },
   "outputs": [
    {
     "data": {
      "text/html": [
       "<div>\n",
       "<style scoped>\n",
       "    .dataframe tbody tr th:only-of-type {\n",
       "        vertical-align: middle;\n",
       "    }\n",
       "\n",
       "    .dataframe tbody tr th {\n",
       "        vertical-align: top;\n",
       "    }\n",
       "\n",
       "    .dataframe thead th {\n",
       "        text-align: right;\n",
       "    }\n",
       "</style>\n",
       "<table border=\"1\" class=\"dataframe\">\n",
       "  <thead>\n",
       "    <tr style=\"text-align: right;\">\n",
       "      <th></th>\n",
       "      <th>ID</th>\n",
       "      <th>ingf</th>\n",
       "      <th>nfam</th>\n",
       "      <th>tocio</th>\n",
       "    </tr>\n",
       "  </thead>\n",
       "  <tbody>\n",
       "    <tr>\n",
       "      <th>0</th>\n",
       "      <td>1</td>\n",
       "      <td>434.0</td>\n",
       "      <td>10.0</td>\n",
       "      <td>8.0</td>\n",
       "    </tr>\n",
       "    <tr>\n",
       "      <th>1</th>\n",
       "      <td>2</td>\n",
       "      <td>1002.0</td>\n",
       "      <td>10.0</td>\n",
       "      <td>1.0</td>\n",
       "    </tr>\n",
       "    <tr>\n",
       "      <th>2</th>\n",
       "      <td>3</td>\n",
       "      <td>657.0</td>\n",
       "      <td>11.0</td>\n",
       "      <td>12.0</td>\n",
       "    </tr>\n",
       "    <tr>\n",
       "      <th>3</th>\n",
       "      <td>4</td>\n",
       "      <td>200.0</td>\n",
       "      <td>3.0</td>\n",
       "      <td>2.0</td>\n",
       "    </tr>\n",
       "    <tr>\n",
       "      <th>4</th>\n",
       "      <td>5</td>\n",
       "      <td>408.0</td>\n",
       "      <td>8.0</td>\n",
       "      <td>12.0</td>\n",
       "    </tr>\n",
       "    <tr>\n",
       "      <th>...</th>\n",
       "      <td>...</td>\n",
       "      <td>...</td>\n",
       "      <td>...</td>\n",
       "      <td>...</td>\n",
       "    </tr>\n",
       "    <tr>\n",
       "      <th>195</th>\n",
       "      <td>196</td>\n",
       "      <td>610.0</td>\n",
       "      <td>10.0</td>\n",
       "      <td>9.0</td>\n",
       "    </tr>\n",
       "    <tr>\n",
       "      <th>196</th>\n",
       "      <td>197</td>\n",
       "      <td>522.0</td>\n",
       "      <td>3.0</td>\n",
       "      <td>12.0</td>\n",
       "    </tr>\n",
       "    <tr>\n",
       "      <th>197</th>\n",
       "      <td>198</td>\n",
       "      <td>558.0</td>\n",
       "      <td>4.0</td>\n",
       "      <td>2.0</td>\n",
       "    </tr>\n",
       "    <tr>\n",
       "      <th>198</th>\n",
       "      <td>199</td>\n",
       "      <td>424.0</td>\n",
       "      <td>6.0</td>\n",
       "      <td>11.0</td>\n",
       "    </tr>\n",
       "    <tr>\n",
       "      <th>199</th>\n",
       "      <td>200</td>\n",
       "      <td>394.0</td>\n",
       "      <td>60.0</td>\n",
       "      <td>7.0</td>\n",
       "    </tr>\n",
       "  </tbody>\n",
       "</table>\n",
       "<p>200 rows × 4 columns</p>\n",
       "</div>"
      ],
      "text/plain": [
       "      ID    ingf  nfam  tocio\n",
       "0      1   434.0  10.0    8.0\n",
       "1      2  1002.0  10.0    1.0\n",
       "2      3   657.0  11.0   12.0\n",
       "3      4   200.0   3.0    2.0\n",
       "4      5   408.0   8.0   12.0\n",
       "..   ...     ...   ...    ...\n",
       "195  196   610.0  10.0    9.0\n",
       "196  197   522.0   3.0   12.0\n",
       "197  198   558.0   4.0    2.0\n",
       "198  199   424.0   6.0   11.0\n",
       "199  200   394.0  60.0    7.0\n",
       "\n",
       "[200 rows x 4 columns]"
      ]
     },
     "execution_count": 3,
     "metadata": {},
     "output_type": "execute_result"
    }
   ],
   "source": [
    "df2"
   ]
  },
  {
   "cell_type": "markdown",
   "id": "6b40b026",
   "metadata": {},
   "source": [
    "### Fusionar las 2 bases de datos."
   ]
  },
  {
   "cell_type": "code",
   "execution_count": 4,
   "id": "91a6f1d3",
   "metadata": {},
   "outputs": [
    {
     "data": {
      "text/html": [
       "<div>\n",
       "<style scoped>\n",
       "    .dataframe tbody tr th:only-of-type {\n",
       "        vertical-align: middle;\n",
       "    }\n",
       "\n",
       "    .dataframe tbody tr th {\n",
       "        vertical-align: top;\n",
       "    }\n",
       "\n",
       "    .dataframe thead th {\n",
       "        text-align: right;\n",
       "    }\n",
       "</style>\n",
       "<table border=\"1\" class=\"dataframe\">\n",
       "  <thead>\n",
       "    <tr style=\"text-align: right;\">\n",
       "      <th></th>\n",
       "      <th>ID</th>\n",
       "      <th>rdm</th>\n",
       "      <th>Genero</th>\n",
       "      <th>pgen</th>\n",
       "      <th>ingf</th>\n",
       "      <th>nfam</th>\n",
       "      <th>tocio</th>\n",
       "    </tr>\n",
       "  </thead>\n",
       "  <tbody>\n",
       "    <tr>\n",
       "      <th>0</th>\n",
       "      <td>1</td>\n",
       "      <td>124</td>\n",
       "      <td>Hombre</td>\n",
       "      <td>7.0</td>\n",
       "      <td>434.0</td>\n",
       "      <td>10.0</td>\n",
       "      <td>8.0</td>\n",
       "    </tr>\n",
       "    <tr>\n",
       "      <th>1</th>\n",
       "      <td>2</td>\n",
       "      <td>267</td>\n",
       "      <td>Mujer</td>\n",
       "      <td>12.0</td>\n",
       "      <td>1002.0</td>\n",
       "      <td>10.0</td>\n",
       "      <td>1.0</td>\n",
       "    </tr>\n",
       "    <tr>\n",
       "      <th>2</th>\n",
       "      <td>3</td>\n",
       "      <td>193</td>\n",
       "      <td>Mujer</td>\n",
       "      <td>9.0</td>\n",
       "      <td>657.0</td>\n",
       "      <td>11.0</td>\n",
       "      <td>12.0</td>\n",
       "    </tr>\n",
       "    <tr>\n",
       "      <th>3</th>\n",
       "      <td>4</td>\n",
       "      <td>122</td>\n",
       "      <td>Hombre</td>\n",
       "      <td>4.0</td>\n",
       "      <td>200.0</td>\n",
       "      <td>3.0</td>\n",
       "      <td>2.0</td>\n",
       "    </tr>\n",
       "    <tr>\n",
       "      <th>4</th>\n",
       "      <td>5</td>\n",
       "      <td>134</td>\n",
       "      <td>Hombre</td>\n",
       "      <td>7.0</td>\n",
       "      <td>408.0</td>\n",
       "      <td>8.0</td>\n",
       "      <td>12.0</td>\n",
       "    </tr>\n",
       "    <tr>\n",
       "      <th>...</th>\n",
       "      <td>...</td>\n",
       "      <td>...</td>\n",
       "      <td>...</td>\n",
       "      <td>...</td>\n",
       "      <td>...</td>\n",
       "      <td>...</td>\n",
       "      <td>...</td>\n",
       "    </tr>\n",
       "    <tr>\n",
       "      <th>195</th>\n",
       "      <td>196</td>\n",
       "      <td>215</td>\n",
       "      <td>Hombre</td>\n",
       "      <td>11.0</td>\n",
       "      <td>610.0</td>\n",
       "      <td>10.0</td>\n",
       "      <td>9.0</td>\n",
       "    </tr>\n",
       "    <tr>\n",
       "      <th>196</th>\n",
       "      <td>197</td>\n",
       "      <td>138</td>\n",
       "      <td>Mujer</td>\n",
       "      <td>11.0</td>\n",
       "      <td>522.0</td>\n",
       "      <td>3.0</td>\n",
       "      <td>12.0</td>\n",
       "    </tr>\n",
       "    <tr>\n",
       "      <th>197</th>\n",
       "      <td>198</td>\n",
       "      <td>189</td>\n",
       "      <td>Hombre</td>\n",
       "      <td>7.0</td>\n",
       "      <td>558.0</td>\n",
       "      <td>4.0</td>\n",
       "      <td>2.0</td>\n",
       "    </tr>\n",
       "    <tr>\n",
       "      <th>198</th>\n",
       "      <td>199</td>\n",
       "      <td>109</td>\n",
       "      <td>Mujer</td>\n",
       "      <td>6.0</td>\n",
       "      <td>424.0</td>\n",
       "      <td>6.0</td>\n",
       "      <td>11.0</td>\n",
       "    </tr>\n",
       "    <tr>\n",
       "      <th>199</th>\n",
       "      <td>200</td>\n",
       "      <td>214</td>\n",
       "      <td>Hombre</td>\n",
       "      <td>4.0</td>\n",
       "      <td>394.0</td>\n",
       "      <td>60.0</td>\n",
       "      <td>7.0</td>\n",
       "    </tr>\n",
       "  </tbody>\n",
       "</table>\n",
       "<p>200 rows × 7 columns</p>\n",
       "</div>"
      ],
      "text/plain": [
       "      ID  rdm  Genero  pgen    ingf  nfam  tocio\n",
       "0      1  124  Hombre   7.0   434.0  10.0    8.0\n",
       "1      2  267   Mujer  12.0  1002.0  10.0    1.0\n",
       "2      3  193   Mujer   9.0   657.0  11.0   12.0\n",
       "3      4  122  Hombre   4.0   200.0   3.0    2.0\n",
       "4      5  134  Hombre   7.0   408.0   8.0   12.0\n",
       "..   ...  ...     ...   ...     ...   ...    ...\n",
       "195  196  215  Hombre  11.0   610.0  10.0    9.0\n",
       "196  197  138   Mujer  11.0   522.0   3.0   12.0\n",
       "197  198  189  Hombre   7.0   558.0   4.0    2.0\n",
       "198  199  109   Mujer   6.0   424.0   6.0   11.0\n",
       "199  200  214  Hombre   4.0   394.0  60.0    7.0\n",
       "\n",
       "[200 rows x 7 columns]"
      ]
     },
     "execution_count": 4,
     "metadata": {},
     "output_type": "execute_result"
    }
   ],
   "source": [
    "#Unir las 2 bases de datos en 1, Usando merge\n",
    "df = pd.merge(df1, df2, how='inner', on= 'ID' )\n",
    "df"
   ]
  },
  {
   "cell_type": "markdown",
   "id": "a53157c2",
   "metadata": {},
   "source": [
    "#### Documentacion de merge\n",
    "\n",
    "Documentacion:\n",
    "[merge](https://pandas.pydata.org/docs/reference/api/pandas.DataFrame.merge.html)\n"
   ]
  },
  {
   "cell_type": "markdown",
   "id": "d9a85e40",
   "metadata": {},
   "source": [
    "## Analisis de datos"
   ]
  },
  {
   "cell_type": "code",
   "execution_count": 5,
   "id": "ea518f0b",
   "metadata": {},
   "outputs": [
    {
     "data": {
      "text/plain": [
       "['ID', 'rdm', 'Genero', 'pgen', 'ingf', 'nfam', 'tocio']"
      ]
     },
     "execution_count": 5,
     "metadata": {},
     "output_type": "execute_result"
    }
   ],
   "source": [
    "list(df)"
   ]
  },
  {
   "cell_type": "code",
   "execution_count": 6,
   "id": "5370cddf",
   "metadata": {
    "scrolled": false
   },
   "outputs": [
    {
     "data": {
      "text/html": [
       "<div>\n",
       "<style scoped>\n",
       "    .dataframe tbody tr th:only-of-type {\n",
       "        vertical-align: middle;\n",
       "    }\n",
       "\n",
       "    .dataframe tbody tr th {\n",
       "        vertical-align: top;\n",
       "    }\n",
       "\n",
       "    .dataframe thead th {\n",
       "        text-align: right;\n",
       "    }\n",
       "</style>\n",
       "<table border=\"1\" class=\"dataframe\">\n",
       "  <thead>\n",
       "    <tr style=\"text-align: right;\">\n",
       "      <th></th>\n",
       "      <th>ID</th>\n",
       "      <th>rdm</th>\n",
       "      <th>pgen</th>\n",
       "      <th>ingf</th>\n",
       "      <th>nfam</th>\n",
       "      <th>tocio</th>\n",
       "    </tr>\n",
       "  </thead>\n",
       "  <tbody>\n",
       "    <tr>\n",
       "      <th>count</th>\n",
       "      <td>200.000000</td>\n",
       "      <td>200.000000</td>\n",
       "      <td>199.000000</td>\n",
       "      <td>198.000000</td>\n",
       "      <td>198.000000</td>\n",
       "      <td>199.000000</td>\n",
       "    </tr>\n",
       "    <tr>\n",
       "      <th>mean</th>\n",
       "      <td>100.500000</td>\n",
       "      <td>182.930000</td>\n",
       "      <td>9.336683</td>\n",
       "      <td>577.348485</td>\n",
       "      <td>6.828283</td>\n",
       "      <td>6.653266</td>\n",
       "    </tr>\n",
       "    <tr>\n",
       "      <th>std</th>\n",
       "      <td>57.879185</td>\n",
       "      <td>88.174935</td>\n",
       "      <td>8.952298</td>\n",
       "      <td>269.150355</td>\n",
       "      <td>7.688795</td>\n",
       "      <td>8.914033</td>\n",
       "    </tr>\n",
       "    <tr>\n",
       "      <th>min</th>\n",
       "      <td>1.000000</td>\n",
       "      <td>11.000000</td>\n",
       "      <td>3.000000</td>\n",
       "      <td>139.000000</td>\n",
       "      <td>3.000000</td>\n",
       "      <td>0.000000</td>\n",
       "    </tr>\n",
       "    <tr>\n",
       "      <th>25%</th>\n",
       "      <td>50.750000</td>\n",
       "      <td>119.500000</td>\n",
       "      <td>6.000000</td>\n",
       "      <td>372.000000</td>\n",
       "      <td>3.000000</td>\n",
       "      <td>3.000000</td>\n",
       "    </tr>\n",
       "    <tr>\n",
       "      <th>50%</th>\n",
       "      <td>100.500000</td>\n",
       "      <td>177.500000</td>\n",
       "      <td>8.000000</td>\n",
       "      <td>523.500000</td>\n",
       "      <td>6.000000</td>\n",
       "      <td>6.000000</td>\n",
       "    </tr>\n",
       "    <tr>\n",
       "      <th>75%</th>\n",
       "      <td>150.250000</td>\n",
       "      <td>232.250000</td>\n",
       "      <td>11.000000</td>\n",
       "      <td>715.750000</td>\n",
       "      <td>8.000000</td>\n",
       "      <td>9.000000</td>\n",
       "    </tr>\n",
       "    <tr>\n",
       "      <th>max</th>\n",
       "      <td>200.000000</td>\n",
       "      <td>411.000000</td>\n",
       "      <td>124.000000</td>\n",
       "      <td>1297.000000</td>\n",
       "      <td>92.000000</td>\n",
       "      <td>120.000000</td>\n",
       "    </tr>\n",
       "  </tbody>\n",
       "</table>\n",
       "</div>"
      ],
      "text/plain": [
       "               ID         rdm        pgen         ingf        nfam       tocio\n",
       "count  200.000000  200.000000  199.000000   198.000000  198.000000  199.000000\n",
       "mean   100.500000  182.930000    9.336683   577.348485    6.828283    6.653266\n",
       "std     57.879185   88.174935    8.952298   269.150355    7.688795    8.914033\n",
       "min      1.000000   11.000000    3.000000   139.000000    3.000000    0.000000\n",
       "25%     50.750000  119.500000    6.000000   372.000000    3.000000    3.000000\n",
       "50%    100.500000  177.500000    8.000000   523.500000    6.000000    6.000000\n",
       "75%    150.250000  232.250000   11.000000   715.750000    8.000000    9.000000\n",
       "max    200.000000  411.000000  124.000000  1297.000000   92.000000  120.000000"
      ]
     },
     "execution_count": 6,
     "metadata": {},
     "output_type": "execute_result"
    }
   ],
   "source": [
    "df.describe()\n",
    "# Falta la variable Genero para interpretar, pero es string."
   ]
  },
  {
   "cell_type": "markdown",
   "id": "3dd4ed2c",
   "metadata": {},
   "source": [
    "### Trabajar la variable Dicotomica"
   ]
  },
  {
   "cell_type": "code",
   "execution_count": 7,
   "id": "72aecdd2",
   "metadata": {},
   "outputs": [
    {
     "data": {
      "text/plain": [
       "{0: 'Hombre', 1: 'Mujer'}"
      ]
     },
     "execution_count": 7,
     "metadata": {},
     "output_type": "execute_result"
    }
   ],
   "source": [
    "from sklearn.preprocessing import LabelEncoder\n",
    "le = LabelEncoder()\n",
    "\n",
    "df.Genero = le.fit_transform(df.Genero)\n",
    "model_mapping = {index : label for index, label in enumerate(le.classes_)}\n",
    "model_mapping"
   ]
  },
  {
   "cell_type": "code",
   "execution_count": 8,
   "id": "10c94578",
   "metadata": {
    "scrolled": true
   },
   "outputs": [
    {
     "data": {
      "text/html": [
       "<div>\n",
       "<style scoped>\n",
       "    .dataframe tbody tr th:only-of-type {\n",
       "        vertical-align: middle;\n",
       "    }\n",
       "\n",
       "    .dataframe tbody tr th {\n",
       "        vertical-align: top;\n",
       "    }\n",
       "\n",
       "    .dataframe thead th {\n",
       "        text-align: right;\n",
       "    }\n",
       "</style>\n",
       "<table border=\"1\" class=\"dataframe\">\n",
       "  <thead>\n",
       "    <tr style=\"text-align: right;\">\n",
       "      <th></th>\n",
       "      <th>ID</th>\n",
       "      <th>rdm</th>\n",
       "      <th>Genero</th>\n",
       "      <th>pgen</th>\n",
       "      <th>ingf</th>\n",
       "      <th>nfam</th>\n",
       "      <th>tocio</th>\n",
       "    </tr>\n",
       "  </thead>\n",
       "  <tbody>\n",
       "    <tr>\n",
       "      <th>count</th>\n",
       "      <td>200.000000</td>\n",
       "      <td>200.000000</td>\n",
       "      <td>200.000000</td>\n",
       "      <td>199.000000</td>\n",
       "      <td>198.000000</td>\n",
       "      <td>198.000000</td>\n",
       "      <td>199.000000</td>\n",
       "    </tr>\n",
       "    <tr>\n",
       "      <th>mean</th>\n",
       "      <td>100.500000</td>\n",
       "      <td>182.930000</td>\n",
       "      <td>0.445000</td>\n",
       "      <td>9.336683</td>\n",
       "      <td>577.348485</td>\n",
       "      <td>6.828283</td>\n",
       "      <td>6.653266</td>\n",
       "    </tr>\n",
       "    <tr>\n",
       "      <th>std</th>\n",
       "      <td>57.879185</td>\n",
       "      <td>88.174935</td>\n",
       "      <td>0.498213</td>\n",
       "      <td>8.952298</td>\n",
       "      <td>269.150355</td>\n",
       "      <td>7.688795</td>\n",
       "      <td>8.914033</td>\n",
       "    </tr>\n",
       "    <tr>\n",
       "      <th>min</th>\n",
       "      <td>1.000000</td>\n",
       "      <td>11.000000</td>\n",
       "      <td>0.000000</td>\n",
       "      <td>3.000000</td>\n",
       "      <td>139.000000</td>\n",
       "      <td>3.000000</td>\n",
       "      <td>0.000000</td>\n",
       "    </tr>\n",
       "    <tr>\n",
       "      <th>25%</th>\n",
       "      <td>50.750000</td>\n",
       "      <td>119.500000</td>\n",
       "      <td>0.000000</td>\n",
       "      <td>6.000000</td>\n",
       "      <td>372.000000</td>\n",
       "      <td>3.000000</td>\n",
       "      <td>3.000000</td>\n",
       "    </tr>\n",
       "    <tr>\n",
       "      <th>50%</th>\n",
       "      <td>100.500000</td>\n",
       "      <td>177.500000</td>\n",
       "      <td>0.000000</td>\n",
       "      <td>8.000000</td>\n",
       "      <td>523.500000</td>\n",
       "      <td>6.000000</td>\n",
       "      <td>6.000000</td>\n",
       "    </tr>\n",
       "    <tr>\n",
       "      <th>75%</th>\n",
       "      <td>150.250000</td>\n",
       "      <td>232.250000</td>\n",
       "      <td>1.000000</td>\n",
       "      <td>11.000000</td>\n",
       "      <td>715.750000</td>\n",
       "      <td>8.000000</td>\n",
       "      <td>9.000000</td>\n",
       "    </tr>\n",
       "    <tr>\n",
       "      <th>max</th>\n",
       "      <td>200.000000</td>\n",
       "      <td>411.000000</td>\n",
       "      <td>1.000000</td>\n",
       "      <td>124.000000</td>\n",
       "      <td>1297.000000</td>\n",
       "      <td>92.000000</td>\n",
       "      <td>120.000000</td>\n",
       "    </tr>\n",
       "  </tbody>\n",
       "</table>\n",
       "</div>"
      ],
      "text/plain": [
       "               ID         rdm      Genero        pgen         ingf  \\\n",
       "count  200.000000  200.000000  200.000000  199.000000   198.000000   \n",
       "mean   100.500000  182.930000    0.445000    9.336683   577.348485   \n",
       "std     57.879185   88.174935    0.498213    8.952298   269.150355   \n",
       "min      1.000000   11.000000    0.000000    3.000000   139.000000   \n",
       "25%     50.750000  119.500000    0.000000    6.000000   372.000000   \n",
       "50%    100.500000  177.500000    0.000000    8.000000   523.500000   \n",
       "75%    150.250000  232.250000    1.000000   11.000000   715.750000   \n",
       "max    200.000000  411.000000    1.000000  124.000000  1297.000000   \n",
       "\n",
       "             nfam       tocio  \n",
       "count  198.000000  199.000000  \n",
       "mean     6.828283    6.653266  \n",
       "std      7.688795    8.914033  \n",
       "min      3.000000    0.000000  \n",
       "25%      3.000000    3.000000  \n",
       "50%      6.000000    6.000000  \n",
       "75%      8.000000    9.000000  \n",
       "max     92.000000  120.000000  "
      ]
     },
     "execution_count": 8,
     "metadata": {},
     "output_type": "execute_result"
    }
   ],
   "source": [
    "df.describe()"
   ]
  },
  {
   "cell_type": "markdown",
   "id": "62fabcb0",
   "metadata": {},
   "source": [
    "### Quitar Missing Values"
   ]
  },
  {
   "cell_type": "code",
   "execution_count": 9,
   "id": "2ff3bf0e",
   "metadata": {},
   "outputs": [
    {
     "data": {
      "text/html": [
       "<div>\n",
       "<style scoped>\n",
       "    .dataframe tbody tr th:only-of-type {\n",
       "        vertical-align: middle;\n",
       "    }\n",
       "\n",
       "    .dataframe tbody tr th {\n",
       "        vertical-align: top;\n",
       "    }\n",
       "\n",
       "    .dataframe thead th {\n",
       "        text-align: right;\n",
       "    }\n",
       "</style>\n",
       "<table border=\"1\" class=\"dataframe\">\n",
       "  <thead>\n",
       "    <tr style=\"text-align: right;\">\n",
       "      <th></th>\n",
       "      <th>ID</th>\n",
       "      <th>rdm</th>\n",
       "      <th>Genero</th>\n",
       "      <th>pgen</th>\n",
       "      <th>ingf</th>\n",
       "      <th>nfam</th>\n",
       "      <th>tocio</th>\n",
       "    </tr>\n",
       "  </thead>\n",
       "  <tbody>\n",
       "    <tr>\n",
       "      <th>count</th>\n",
       "      <td>194.000000</td>\n",
       "      <td>194.000000</td>\n",
       "      <td>194.000000</td>\n",
       "      <td>194.000000</td>\n",
       "      <td>194.000000</td>\n",
       "      <td>194.000000</td>\n",
       "      <td>194.000000</td>\n",
       "    </tr>\n",
       "    <tr>\n",
       "      <th>mean</th>\n",
       "      <td>103.092784</td>\n",
       "      <td>182.979381</td>\n",
       "      <td>0.443299</td>\n",
       "      <td>9.309278</td>\n",
       "      <td>578.025773</td>\n",
       "      <td>6.855670</td>\n",
       "      <td>6.716495</td>\n",
       "    </tr>\n",
       "    <tr>\n",
       "      <th>std</th>\n",
       "      <td>56.804014</td>\n",
       "      <td>88.556996</td>\n",
       "      <td>0.498060</td>\n",
       "      <td>9.053509</td>\n",
       "      <td>270.314717</td>\n",
       "      <td>7.751302</td>\n",
       "      <td>8.995510</td>\n",
       "    </tr>\n",
       "    <tr>\n",
       "      <th>min</th>\n",
       "      <td>1.000000</td>\n",
       "      <td>11.000000</td>\n",
       "      <td>0.000000</td>\n",
       "      <td>3.000000</td>\n",
       "      <td>139.000000</td>\n",
       "      <td>3.000000</td>\n",
       "      <td>0.000000</td>\n",
       "    </tr>\n",
       "    <tr>\n",
       "      <th>25%</th>\n",
       "      <td>55.250000</td>\n",
       "      <td>118.500000</td>\n",
       "      <td>0.000000</td>\n",
       "      <td>6.000000</td>\n",
       "      <td>372.000000</td>\n",
       "      <td>3.000000</td>\n",
       "      <td>3.000000</td>\n",
       "    </tr>\n",
       "    <tr>\n",
       "      <th>50%</th>\n",
       "      <td>103.500000</td>\n",
       "      <td>178.000000</td>\n",
       "      <td>0.000000</td>\n",
       "      <td>8.000000</td>\n",
       "      <td>523.500000</td>\n",
       "      <td>6.000000</td>\n",
       "      <td>6.000000</td>\n",
       "    </tr>\n",
       "    <tr>\n",
       "      <th>75%</th>\n",
       "      <td>151.750000</td>\n",
       "      <td>236.750000</td>\n",
       "      <td>1.000000</td>\n",
       "      <td>11.000000</td>\n",
       "      <td>715.750000</td>\n",
       "      <td>8.000000</td>\n",
       "      <td>9.000000</td>\n",
       "    </tr>\n",
       "    <tr>\n",
       "      <th>max</th>\n",
       "      <td>200.000000</td>\n",
       "      <td>411.000000</td>\n",
       "      <td>1.000000</td>\n",
       "      <td>124.000000</td>\n",
       "      <td>1297.000000</td>\n",
       "      <td>92.000000</td>\n",
       "      <td>120.000000</td>\n",
       "    </tr>\n",
       "  </tbody>\n",
       "</table>\n",
       "</div>"
      ],
      "text/plain": [
       "               ID         rdm      Genero        pgen         ingf  \\\n",
       "count  194.000000  194.000000  194.000000  194.000000   194.000000   \n",
       "mean   103.092784  182.979381    0.443299    9.309278   578.025773   \n",
       "std     56.804014   88.556996    0.498060    9.053509   270.314717   \n",
       "min      1.000000   11.000000    0.000000    3.000000   139.000000   \n",
       "25%     55.250000  118.500000    0.000000    6.000000   372.000000   \n",
       "50%    103.500000  178.000000    0.000000    8.000000   523.500000   \n",
       "75%    151.750000  236.750000    1.000000   11.000000   715.750000   \n",
       "max    200.000000  411.000000    1.000000  124.000000  1297.000000   \n",
       "\n",
       "             nfam       tocio  \n",
       "count  194.000000  194.000000  \n",
       "mean     6.855670    6.716495  \n",
       "std      7.751302    8.995510  \n",
       "min      3.000000    0.000000  \n",
       "25%      3.000000    3.000000  \n",
       "50%      6.000000    6.000000  \n",
       "75%      8.000000    9.000000  \n",
       "max     92.000000  120.000000  "
      ]
     },
     "execution_count": 9,
     "metadata": {},
     "output_type": "execute_result"
    }
   ],
   "source": [
    "# Por simplicidad se eliminarán los valores nulos\n",
    "df = df.dropna()\n",
    "df.describe()"
   ]
  },
  {
   "cell_type": "markdown",
   "id": "ca65217d",
   "metadata": {},
   "source": [
    "### Valores Atipicos (Buscandolos a través de estadisitca descriptiva e histogramas)."
   ]
  },
  {
   "cell_type": "code",
   "execution_count": 10,
   "id": "a6be50ed",
   "metadata": {},
   "outputs": [
    {
     "data": {
      "text/plain": [
       "<AxesSubplot:ylabel='Frequency'>"
      ]
     },
     "execution_count": 10,
     "metadata": {},
     "output_type": "execute_result"
    },
    {
     "data": {
      "image/png": "[encoded data removed]",
      "text/plain": [
       "<Figure size 432x288 with 1 Axes>"
      ]
     },
     "metadata": {
      "needs_background": "light"
     },
     "output_type": "display_data"
    }
   ],
   "source": [
    "# T.ocio 120\n",
    "df['tocio'].plot.hist()"
   ]
  },
  {
   "cell_type": "code",
   "execution_count": 11,
   "id": "49468398",
   "metadata": {
    "scrolled": false
   },
   "outputs": [
    {
     "data": {
      "text/html": [
       "<div>\n",
       "<style scoped>\n",
       "    .dataframe tbody tr th:only-of-type {\n",
       "        vertical-align: middle;\n",
       "    }\n",
       "\n",
       "    .dataframe tbody tr th {\n",
       "        vertical-align: top;\n",
       "    }\n",
       "\n",
       "    .dataframe thead th {\n",
       "        text-align: right;\n",
       "    }\n",
       "</style>\n",
       "<table border=\"1\" class=\"dataframe\">\n",
       "  <thead>\n",
       "    <tr style=\"text-align: right;\">\n",
       "      <th></th>\n",
       "      <th>ID</th>\n",
       "      <th>rdm</th>\n",
       "      <th>Genero</th>\n",
       "      <th>pgen</th>\n",
       "      <th>ingf</th>\n",
       "      <th>nfam</th>\n",
       "      <th>tocio</th>\n",
       "    </tr>\n",
       "  </thead>\n",
       "  <tbody>\n",
       "    <tr>\n",
       "      <th>count</th>\n",
       "      <td>193.000000</td>\n",
       "      <td>193.000000</td>\n",
       "      <td>193.000000</td>\n",
       "      <td>193.000000</td>\n",
       "      <td>193.000000</td>\n",
       "      <td>193.000000</td>\n",
       "      <td>193.000000</td>\n",
       "    </tr>\n",
       "    <tr>\n",
       "      <th>mean</th>\n",
       "      <td>103.393782</td>\n",
       "      <td>182.911917</td>\n",
       "      <td>0.445596</td>\n",
       "      <td>9.305699</td>\n",
       "      <td>578.383420</td>\n",
       "      <td>6.875648</td>\n",
       "      <td>6.129534</td>\n",
       "    </tr>\n",
       "    <tr>\n",
       "      <th>std</th>\n",
       "      <td>56.796423</td>\n",
       "      <td>88.782315</td>\n",
       "      <td>0.498324</td>\n",
       "      <td>9.076918</td>\n",
       "      <td>270.971724</td>\n",
       "      <td>7.766453</td>\n",
       "      <td>3.762314</td>\n",
       "    </tr>\n",
       "    <tr>\n",
       "      <th>min</th>\n",
       "      <td>1.000000</td>\n",
       "      <td>11.000000</td>\n",
       "      <td>0.000000</td>\n",
       "      <td>3.000000</td>\n",
       "      <td>139.000000</td>\n",
       "      <td>3.000000</td>\n",
       "      <td>0.000000</td>\n",
       "    </tr>\n",
       "    <tr>\n",
       "      <th>25%</th>\n",
       "      <td>56.000000</td>\n",
       "      <td>118.000000</td>\n",
       "      <td>0.000000</td>\n",
       "      <td>6.000000</td>\n",
       "      <td>371.000000</td>\n",
       "      <td>3.000000</td>\n",
       "      <td>3.000000</td>\n",
       "    </tr>\n",
       "    <tr>\n",
       "      <th>50%</th>\n",
       "      <td>104.000000</td>\n",
       "      <td>178.000000</td>\n",
       "      <td>0.000000</td>\n",
       "      <td>8.000000</td>\n",
       "      <td>525.000000</td>\n",
       "      <td>6.000000</td>\n",
       "      <td>6.000000</td>\n",
       "    </tr>\n",
       "    <tr>\n",
       "      <th>75%</th>\n",
       "      <td>152.000000</td>\n",
       "      <td>239.000000</td>\n",
       "      <td>1.000000</td>\n",
       "      <td>11.000000</td>\n",
       "      <td>717.000000</td>\n",
       "      <td>8.000000</td>\n",
       "      <td>9.000000</td>\n",
       "    </tr>\n",
       "    <tr>\n",
       "      <th>max</th>\n",
       "      <td>200.000000</td>\n",
       "      <td>411.000000</td>\n",
       "      <td>1.000000</td>\n",
       "      <td>124.000000</td>\n",
       "      <td>1297.000000</td>\n",
       "      <td>92.000000</td>\n",
       "      <td>12.000000</td>\n",
       "    </tr>\n",
       "  </tbody>\n",
       "</table>\n",
       "</div>"
      ],
      "text/plain": [
       "               ID         rdm      Genero        pgen         ingf  \\\n",
       "count  193.000000  193.000000  193.000000  193.000000   193.000000   \n",
       "mean   103.393782  182.911917    0.445596    9.305699   578.383420   \n",
       "std     56.796423   88.782315    0.498324    9.076918   270.971724   \n",
       "min      1.000000   11.000000    0.000000    3.000000   139.000000   \n",
       "25%     56.000000  118.000000    0.000000    6.000000   371.000000   \n",
       "50%    104.000000  178.000000    0.000000    8.000000   525.000000   \n",
       "75%    152.000000  239.000000    1.000000   11.000000   717.000000   \n",
       "max    200.000000  411.000000    1.000000  124.000000  1297.000000   \n",
       "\n",
       "             nfam       tocio  \n",
       "count  193.000000  193.000000  \n",
       "mean     6.875648    6.129534  \n",
       "std      7.766453    3.762314  \n",
       "min      3.000000    0.000000  \n",
       "25%      3.000000    3.000000  \n",
       "50%      6.000000    6.000000  \n",
       "75%      8.000000    9.000000  \n",
       "max     92.000000   12.000000  "
      ]
     },
     "execution_count": 11,
     "metadata": {},
     "output_type": "execute_result"
    }
   ],
   "source": [
    "df = df[df['tocio']<120]\n",
    "df.describe()"
   ]
  },
  {
   "cell_type": "code",
   "execution_count": 12,
   "id": "f1c7d3e8",
   "metadata": {},
   "outputs": [
    {
     "data": {
      "text/plain": [
       "<AxesSubplot:ylabel='Frequency'>"
      ]
     },
     "execution_count": 12,
     "metadata": {},
     "output_type": "execute_result"
    },
    {
     "data": {
      "image/png": "[encoded data removed]",
      "text/plain": [
       "<Figure size 432x288 with 1 Axes>"
      ]
     },
     "metadata": {
      "needs_background": "light"
     },
     "output_type": "display_data"
    }
   ],
   "source": [
    "#nfam 92\n",
    "df['nfam'].plot.hist()"
   ]
  },
  {
   "cell_type": "code",
   "execution_count": 13,
   "id": "e88b6cf6",
   "metadata": {},
   "outputs": [
    {
     "data": {
      "text/html": [
       "<div>\n",
       "<style scoped>\n",
       "    .dataframe tbody tr th:only-of-type {\n",
       "        vertical-align: middle;\n",
       "    }\n",
       "\n",
       "    .dataframe tbody tr th {\n",
       "        vertical-align: top;\n",
       "    }\n",
       "\n",
       "    .dataframe thead th {\n",
       "        text-align: right;\n",
       "    }\n",
       "</style>\n",
       "<table border=\"1\" class=\"dataframe\">\n",
       "  <thead>\n",
       "    <tr style=\"text-align: right;\">\n",
       "      <th></th>\n",
       "      <th>ID</th>\n",
       "      <th>rdm</th>\n",
       "      <th>Genero</th>\n",
       "      <th>pgen</th>\n",
       "      <th>ingf</th>\n",
       "      <th>nfam</th>\n",
       "      <th>tocio</th>\n",
       "    </tr>\n",
       "  </thead>\n",
       "  <tbody>\n",
       "    <tr>\n",
       "      <th>count</th>\n",
       "      <td>192.000000</td>\n",
       "      <td>192.000000</td>\n",
       "      <td>192.000000</td>\n",
       "      <td>192.000000</td>\n",
       "      <td>192.000000</td>\n",
       "      <td>192.000000</td>\n",
       "      <td>192.000000</td>\n",
       "    </tr>\n",
       "    <tr>\n",
       "      <th>mean</th>\n",
       "      <td>103.203125</td>\n",
       "      <td>183.557292</td>\n",
       "      <td>0.442708</td>\n",
       "      <td>9.317708</td>\n",
       "      <td>579.359375</td>\n",
       "      <td>6.432292</td>\n",
       "      <td>6.109375</td>\n",
       "    </tr>\n",
       "    <tr>\n",
       "      <th>std</th>\n",
       "      <td>56.882955</td>\n",
       "      <td>88.559365</td>\n",
       "      <td>0.498005</td>\n",
       "      <td>9.099111</td>\n",
       "      <td>271.339842</td>\n",
       "      <td>4.743207</td>\n",
       "      <td>3.761686</td>\n",
       "    </tr>\n",
       "    <tr>\n",
       "      <th>min</th>\n",
       "      <td>1.000000</td>\n",
       "      <td>11.000000</td>\n",
       "      <td>0.000000</td>\n",
       "      <td>3.000000</td>\n",
       "      <td>139.000000</td>\n",
       "      <td>3.000000</td>\n",
       "      <td>0.000000</td>\n",
       "    </tr>\n",
       "    <tr>\n",
       "      <th>25%</th>\n",
       "      <td>55.750000</td>\n",
       "      <td>119.500000</td>\n",
       "      <td>0.000000</td>\n",
       "      <td>6.000000</td>\n",
       "      <td>371.000000</td>\n",
       "      <td>3.000000</td>\n",
       "      <td>3.000000</td>\n",
       "    </tr>\n",
       "    <tr>\n",
       "      <th>50%</th>\n",
       "      <td>103.500000</td>\n",
       "      <td>178.000000</td>\n",
       "      <td>0.000000</td>\n",
       "      <td>8.000000</td>\n",
       "      <td>525.500000</td>\n",
       "      <td>6.000000</td>\n",
       "      <td>6.000000</td>\n",
       "    </tr>\n",
       "    <tr>\n",
       "      <th>75%</th>\n",
       "      <td>152.250000</td>\n",
       "      <td>239.750000</td>\n",
       "      <td>1.000000</td>\n",
       "      <td>11.000000</td>\n",
       "      <td>718.250000</td>\n",
       "      <td>8.000000</td>\n",
       "      <td>9.000000</td>\n",
       "    </tr>\n",
       "    <tr>\n",
       "      <th>max</th>\n",
       "      <td>200.000000</td>\n",
       "      <td>411.000000</td>\n",
       "      <td>1.000000</td>\n",
       "      <td>124.000000</td>\n",
       "      <td>1297.000000</td>\n",
       "      <td>60.000000</td>\n",
       "      <td>12.000000</td>\n",
       "    </tr>\n",
       "  </tbody>\n",
       "</table>\n",
       "</div>"
      ],
      "text/plain": [
       "               ID         rdm      Genero        pgen         ingf  \\\n",
       "count  192.000000  192.000000  192.000000  192.000000   192.000000   \n",
       "mean   103.203125  183.557292    0.442708    9.317708   579.359375   \n",
       "std     56.882955   88.559365    0.498005    9.099111   271.339842   \n",
       "min      1.000000   11.000000    0.000000    3.000000   139.000000   \n",
       "25%     55.750000  119.500000    0.000000    6.000000   371.000000   \n",
       "50%    103.500000  178.000000    0.000000    8.000000   525.500000   \n",
       "75%    152.250000  239.750000    1.000000   11.000000   718.250000   \n",
       "max    200.000000  411.000000    1.000000  124.000000  1297.000000   \n",
       "\n",
       "             nfam       tocio  \n",
       "count  192.000000  192.000000  \n",
       "mean     6.432292    6.109375  \n",
       "std      4.743207    3.761686  \n",
       "min      3.000000    0.000000  \n",
       "25%      3.000000    3.000000  \n",
       "50%      6.000000    6.000000  \n",
       "75%      8.000000    9.000000  \n",
       "max     60.000000   12.000000  "
      ]
     },
     "execution_count": 13,
     "metadata": {},
     "output_type": "execute_result"
    }
   ],
   "source": [
    "df = df[df['nfam']<92]\n",
    "df.describe()"
   ]
  },
  {
   "cell_type": "code",
   "execution_count": 14,
   "id": "49a2e334",
   "metadata": {
    "scrolled": false
   },
   "outputs": [
    {
     "data": {
      "text/html": [
       "<div>\n",
       "<style scoped>\n",
       "    .dataframe tbody tr th:only-of-type {\n",
       "        vertical-align: middle;\n",
       "    }\n",
       "\n",
       "    .dataframe tbody tr th {\n",
       "        vertical-align: top;\n",
       "    }\n",
       "\n",
       "    .dataframe thead th {\n",
       "        text-align: right;\n",
       "    }\n",
       "</style>\n",
       "<table border=\"1\" class=\"dataframe\">\n",
       "  <thead>\n",
       "    <tr style=\"text-align: right;\">\n",
       "      <th></th>\n",
       "      <th>ID</th>\n",
       "      <th>rdm</th>\n",
       "      <th>Genero</th>\n",
       "      <th>pgen</th>\n",
       "      <th>ingf</th>\n",
       "      <th>nfam</th>\n",
       "      <th>tocio</th>\n",
       "    </tr>\n",
       "  </thead>\n",
       "  <tbody>\n",
       "    <tr>\n",
       "      <th>count</th>\n",
       "      <td>191.000000</td>\n",
       "      <td>191.000000</td>\n",
       "      <td>191.000000</td>\n",
       "      <td>191.000000</td>\n",
       "      <td>191.000000</td>\n",
       "      <td>191.000000</td>\n",
       "      <td>191.000000</td>\n",
       "    </tr>\n",
       "    <tr>\n",
       "      <th>mean</th>\n",
       "      <td>102.696335</td>\n",
       "      <td>183.397906</td>\n",
       "      <td>0.445026</td>\n",
       "      <td>9.345550</td>\n",
       "      <td>580.329843</td>\n",
       "      <td>6.151832</td>\n",
       "      <td>6.104712</td>\n",
       "    </tr>\n",
       "    <tr>\n",
       "      <th>std</th>\n",
       "      <td>56.596187</td>\n",
       "      <td>88.764495</td>\n",
       "      <td>0.498275</td>\n",
       "      <td>9.114821</td>\n",
       "      <td>271.718665</td>\n",
       "      <td>2.726668</td>\n",
       "      <td>3.771015</td>\n",
       "    </tr>\n",
       "    <tr>\n",
       "      <th>min</th>\n",
       "      <td>1.000000</td>\n",
       "      <td>11.000000</td>\n",
       "      <td>0.000000</td>\n",
       "      <td>3.000000</td>\n",
       "      <td>139.000000</td>\n",
       "      <td>3.000000</td>\n",
       "      <td>0.000000</td>\n",
       "    </tr>\n",
       "    <tr>\n",
       "      <th>25%</th>\n",
       "      <td>55.500000</td>\n",
       "      <td>119.000000</td>\n",
       "      <td>0.000000</td>\n",
       "      <td>6.000000</td>\n",
       "      <td>371.000000</td>\n",
       "      <td>3.000000</td>\n",
       "      <td>3.000000</td>\n",
       "    </tr>\n",
       "    <tr>\n",
       "      <th>50%</th>\n",
       "      <td>103.000000</td>\n",
       "      <td>178.000000</td>\n",
       "      <td>0.000000</td>\n",
       "      <td>8.000000</td>\n",
       "      <td>526.000000</td>\n",
       "      <td>6.000000</td>\n",
       "      <td>6.000000</td>\n",
       "    </tr>\n",
       "    <tr>\n",
       "      <th>75%</th>\n",
       "      <td>151.500000</td>\n",
       "      <td>240.500000</td>\n",
       "      <td>1.000000</td>\n",
       "      <td>11.000000</td>\n",
       "      <td>719.500000</td>\n",
       "      <td>8.000000</td>\n",
       "      <td>9.000000</td>\n",
       "    </tr>\n",
       "    <tr>\n",
       "      <th>max</th>\n",
       "      <td>199.000000</td>\n",
       "      <td>411.000000</td>\n",
       "      <td>1.000000</td>\n",
       "      <td>124.000000</td>\n",
       "      <td>1297.000000</td>\n",
       "      <td>11.000000</td>\n",
       "      <td>12.000000</td>\n",
       "    </tr>\n",
       "  </tbody>\n",
       "</table>\n",
       "</div>"
      ],
      "text/plain": [
       "               ID         rdm      Genero        pgen         ingf  \\\n",
       "count  191.000000  191.000000  191.000000  191.000000   191.000000   \n",
       "mean   102.696335  183.397906    0.445026    9.345550   580.329843   \n",
       "std     56.596187   88.764495    0.498275    9.114821   271.718665   \n",
       "min      1.000000   11.000000    0.000000    3.000000   139.000000   \n",
       "25%     55.500000  119.000000    0.000000    6.000000   371.000000   \n",
       "50%    103.000000  178.000000    0.000000    8.000000   526.000000   \n",
       "75%    151.500000  240.500000    1.000000   11.000000   719.500000   \n",
       "max    199.000000  411.000000    1.000000  124.000000  1297.000000   \n",
       "\n",
       "             nfam       tocio  \n",
       "count  191.000000  191.000000  \n",
       "mean     6.151832    6.104712  \n",
       "std      2.726668    3.771015  \n",
       "min      3.000000    0.000000  \n",
       "25%      3.000000    3.000000  \n",
       "50%      6.000000    6.000000  \n",
       "75%      8.000000    9.000000  \n",
       "max     11.000000   12.000000  "
      ]
     },
     "execution_count": 14,
     "metadata": {},
     "output_type": "execute_result"
    }
   ],
   "source": [
    "df = df[df['nfam']<60]\n",
    "df.describe()"
   ]
  },
  {
   "cell_type": "code",
   "execution_count": 15,
   "id": "96e912b0",
   "metadata": {},
   "outputs": [
    {
     "data": {
      "text/html": [
       "<div>\n",
       "<style scoped>\n",
       "    .dataframe tbody tr th:only-of-type {\n",
       "        vertical-align: middle;\n",
       "    }\n",
       "\n",
       "    .dataframe tbody tr th {\n",
       "        vertical-align: top;\n",
       "    }\n",
       "\n",
       "    .dataframe thead th {\n",
       "        text-align: right;\n",
       "    }\n",
       "</style>\n",
       "<table border=\"1\" class=\"dataframe\">\n",
       "  <thead>\n",
       "    <tr style=\"text-align: right;\">\n",
       "      <th></th>\n",
       "      <th>ID</th>\n",
       "      <th>rdm</th>\n",
       "      <th>Genero</th>\n",
       "      <th>pgen</th>\n",
       "      <th>ingf</th>\n",
       "      <th>nfam</th>\n",
       "      <th>tocio</th>\n",
       "    </tr>\n",
       "  </thead>\n",
       "  <tbody>\n",
       "    <tr>\n",
       "      <th>count</th>\n",
       "      <td>190.000000</td>\n",
       "      <td>190.000000</td>\n",
       "      <td>190.000000</td>\n",
       "      <td>190.000000</td>\n",
       "      <td>190.000000</td>\n",
       "      <td>190.000000</td>\n",
       "      <td>190.000000</td>\n",
       "    </tr>\n",
       "    <tr>\n",
       "      <th>mean</th>\n",
       "      <td>102.689474</td>\n",
       "      <td>182.952632</td>\n",
       "      <td>0.447368</td>\n",
       "      <td>8.742105</td>\n",
       "      <td>579.584211</td>\n",
       "      <td>6.168421</td>\n",
       "      <td>6.115789</td>\n",
       "    </tr>\n",
       "    <tr>\n",
       "      <th>std</th>\n",
       "      <td>56.745635</td>\n",
       "      <td>88.784877</td>\n",
       "      <td>0.498536</td>\n",
       "      <td>3.687791</td>\n",
       "      <td>272.240558</td>\n",
       "      <td>2.724192</td>\n",
       "      <td>3.777861</td>\n",
       "    </tr>\n",
       "    <tr>\n",
       "      <th>min</th>\n",
       "      <td>1.000000</td>\n",
       "      <td>11.000000</td>\n",
       "      <td>0.000000</td>\n",
       "      <td>3.000000</td>\n",
       "      <td>139.000000</td>\n",
       "      <td>3.000000</td>\n",
       "      <td>0.000000</td>\n",
       "    </tr>\n",
       "    <tr>\n",
       "      <th>25%</th>\n",
       "      <td>55.250000</td>\n",
       "      <td>118.500000</td>\n",
       "      <td>0.000000</td>\n",
       "      <td>6.000000</td>\n",
       "      <td>371.000000</td>\n",
       "      <td>3.000000</td>\n",
       "      <td>3.000000</td>\n",
       "    </tr>\n",
       "    <tr>\n",
       "      <th>50%</th>\n",
       "      <td>102.500000</td>\n",
       "      <td>177.500000</td>\n",
       "      <td>0.000000</td>\n",
       "      <td>8.000000</td>\n",
       "      <td>525.500000</td>\n",
       "      <td>6.000000</td>\n",
       "      <td>6.000000</td>\n",
       "    </tr>\n",
       "    <tr>\n",
       "      <th>75%</th>\n",
       "      <td>151.750000</td>\n",
       "      <td>236.750000</td>\n",
       "      <td>1.000000</td>\n",
       "      <td>11.000000</td>\n",
       "      <td>715.750000</td>\n",
       "      <td>8.000000</td>\n",
       "      <td>9.000000</td>\n",
       "    </tr>\n",
       "    <tr>\n",
       "      <th>max</th>\n",
       "      <td>199.000000</td>\n",
       "      <td>411.000000</td>\n",
       "      <td>1.000000</td>\n",
       "      <td>19.000000</td>\n",
       "      <td>1297.000000</td>\n",
       "      <td>11.000000</td>\n",
       "      <td>12.000000</td>\n",
       "    </tr>\n",
       "  </tbody>\n",
       "</table>\n",
       "</div>"
      ],
      "text/plain": [
       "               ID         rdm      Genero        pgen         ingf  \\\n",
       "count  190.000000  190.000000  190.000000  190.000000   190.000000   \n",
       "mean   102.689474  182.952632    0.447368    8.742105   579.584211   \n",
       "std     56.745635   88.784877    0.498536    3.687791   272.240558   \n",
       "min      1.000000   11.000000    0.000000    3.000000   139.000000   \n",
       "25%     55.250000  118.500000    0.000000    6.000000   371.000000   \n",
       "50%    102.500000  177.500000    0.000000    8.000000   525.500000   \n",
       "75%    151.750000  236.750000    1.000000   11.000000   715.750000   \n",
       "max    199.000000  411.000000    1.000000   19.000000  1297.000000   \n",
       "\n",
       "             nfam       tocio  \n",
       "count  190.000000  190.000000  \n",
       "mean     6.168421    6.115789  \n",
       "std      2.724192    3.777861  \n",
       "min      3.000000    0.000000  \n",
       "25%      3.000000    3.000000  \n",
       "50%      6.000000    6.000000  \n",
       "75%      8.000000    9.000000  \n",
       "max     11.000000   12.000000  "
      ]
     },
     "execution_count": 15,
     "metadata": {},
     "output_type": "execute_result"
    }
   ],
   "source": [
    "df = df[df['pgen']<124]\n",
    "df.describe()"
   ]
  },
  {
   "cell_type": "markdown",
   "id": "92ca41b0",
   "metadata": {},
   "source": [
    "Ahora que se tiene la base limpia, es posible interpretar.\n",
    "Entre las interpretaciones, se puede suponer la inexistencia de valores atipicos (outliers) dado que la media y la mediana están cercanas. (Vale la pena mencionar que la media es sensible a estos outliers).\n",
    "- En promedio los ingresos familiariaoes están en los $ 580.\n",
    "- En promedio el tiempo de ocio de los estudiantes es de 6 horas.\n"
   ]
  },
  {
   "cell_type": "markdown",
   "id": "e1cf30dd",
   "metadata": {},
   "source": [
    "## Parte II , calculo manual de betas"
   ]
  },
  {
   "cell_type": "markdown",
   "id": "9e8894aa",
   "metadata": {},
   "source": [
    "$(X^{T}X)^{-1}X^{T}Y$\n"
   ]
  },
  {
   "cell_type": "code",
   "execution_count": 16,
   "id": "42e040a1",
   "metadata": {},
   "outputs": [],
   "source": [
    "#Crear y agregar el intercepto\n",
    "df['Intercepto'] = 1"
   ]
  },
  {
   "cell_type": "code",
   "execution_count": 17,
   "id": "7d117cf2",
   "metadata": {},
   "outputs": [
    {
     "data": {
      "text/html": [
       "<div>\n",
       "<style scoped>\n",
       "    .dataframe tbody tr th:only-of-type {\n",
       "        vertical-align: middle;\n",
       "    }\n",
       "\n",
       "    .dataframe tbody tr th {\n",
       "        vertical-align: top;\n",
       "    }\n",
       "\n",
       "    .dataframe thead th {\n",
       "        text-align: right;\n",
       "    }\n",
       "</style>\n",
       "<table border=\"1\" class=\"dataframe\">\n",
       "  <thead>\n",
       "    <tr style=\"text-align: right;\">\n",
       "      <th></th>\n",
       "      <th>ID</th>\n",
       "      <th>rdm</th>\n",
       "      <th>Genero</th>\n",
       "      <th>pgen</th>\n",
       "      <th>ingf</th>\n",
       "      <th>nfam</th>\n",
       "      <th>tocio</th>\n",
       "      <th>Intercepto</th>\n",
       "    </tr>\n",
       "  </thead>\n",
       "  <tbody>\n",
       "    <tr>\n",
       "      <th>0</th>\n",
       "      <td>1</td>\n",
       "      <td>124</td>\n",
       "      <td>0</td>\n",
       "      <td>7.0</td>\n",
       "      <td>434.0</td>\n",
       "      <td>10.0</td>\n",
       "      <td>8.0</td>\n",
       "      <td>1</td>\n",
       "    </tr>\n",
       "    <tr>\n",
       "      <th>1</th>\n",
       "      <td>2</td>\n",
       "      <td>267</td>\n",
       "      <td>1</td>\n",
       "      <td>12.0</td>\n",
       "      <td>1002.0</td>\n",
       "      <td>10.0</td>\n",
       "      <td>1.0</td>\n",
       "      <td>1</td>\n",
       "    </tr>\n",
       "    <tr>\n",
       "      <th>2</th>\n",
       "      <td>3</td>\n",
       "      <td>193</td>\n",
       "      <td>1</td>\n",
       "      <td>9.0</td>\n",
       "      <td>657.0</td>\n",
       "      <td>11.0</td>\n",
       "      <td>12.0</td>\n",
       "      <td>1</td>\n",
       "    </tr>\n",
       "    <tr>\n",
       "      <th>3</th>\n",
       "      <td>4</td>\n",
       "      <td>122</td>\n",
       "      <td>0</td>\n",
       "      <td>4.0</td>\n",
       "      <td>200.0</td>\n",
       "      <td>3.0</td>\n",
       "      <td>2.0</td>\n",
       "      <td>1</td>\n",
       "    </tr>\n",
       "    <tr>\n",
       "      <th>4</th>\n",
       "      <td>5</td>\n",
       "      <td>134</td>\n",
       "      <td>0</td>\n",
       "      <td>7.0</td>\n",
       "      <td>408.0</td>\n",
       "      <td>8.0</td>\n",
       "      <td>12.0</td>\n",
       "      <td>1</td>\n",
       "    </tr>\n",
       "    <tr>\n",
       "      <th>...</th>\n",
       "      <td>...</td>\n",
       "      <td>...</td>\n",
       "      <td>...</td>\n",
       "      <td>...</td>\n",
       "      <td>...</td>\n",
       "      <td>...</td>\n",
       "      <td>...</td>\n",
       "      <td>...</td>\n",
       "    </tr>\n",
       "    <tr>\n",
       "      <th>194</th>\n",
       "      <td>195</td>\n",
       "      <td>372</td>\n",
       "      <td>1</td>\n",
       "      <td>16.0</td>\n",
       "      <td>995.0</td>\n",
       "      <td>5.0</td>\n",
       "      <td>7.0</td>\n",
       "      <td>1</td>\n",
       "    </tr>\n",
       "    <tr>\n",
       "      <th>195</th>\n",
       "      <td>196</td>\n",
       "      <td>215</td>\n",
       "      <td>0</td>\n",
       "      <td>11.0</td>\n",
       "      <td>610.0</td>\n",
       "      <td>10.0</td>\n",
       "      <td>9.0</td>\n",
       "      <td>1</td>\n",
       "    </tr>\n",
       "    <tr>\n",
       "      <th>196</th>\n",
       "      <td>197</td>\n",
       "      <td>138</td>\n",
       "      <td>1</td>\n",
       "      <td>11.0</td>\n",
       "      <td>522.0</td>\n",
       "      <td>3.0</td>\n",
       "      <td>12.0</td>\n",
       "      <td>1</td>\n",
       "    </tr>\n",
       "    <tr>\n",
       "      <th>197</th>\n",
       "      <td>198</td>\n",
       "      <td>189</td>\n",
       "      <td>0</td>\n",
       "      <td>7.0</td>\n",
       "      <td>558.0</td>\n",
       "      <td>4.0</td>\n",
       "      <td>2.0</td>\n",
       "      <td>1</td>\n",
       "    </tr>\n",
       "    <tr>\n",
       "      <th>198</th>\n",
       "      <td>199</td>\n",
       "      <td>109</td>\n",
       "      <td>1</td>\n",
       "      <td>6.0</td>\n",
       "      <td>424.0</td>\n",
       "      <td>6.0</td>\n",
       "      <td>11.0</td>\n",
       "      <td>1</td>\n",
       "    </tr>\n",
       "  </tbody>\n",
       "</table>\n",
       "<p>190 rows × 8 columns</p>\n",
       "</div>"
      ],
      "text/plain": [
       "      ID  rdm  Genero  pgen    ingf  nfam  tocio  Intercepto\n",
       "0      1  124       0   7.0   434.0  10.0    8.0           1\n",
       "1      2  267       1  12.0  1002.0  10.0    1.0           1\n",
       "2      3  193       1   9.0   657.0  11.0   12.0           1\n",
       "3      4  122       0   4.0   200.0   3.0    2.0           1\n",
       "4      5  134       0   7.0   408.0   8.0   12.0           1\n",
       "..   ...  ...     ...   ...     ...   ...    ...         ...\n",
       "194  195  372       1  16.0   995.0   5.0    7.0           1\n",
       "195  196  215       0  11.0   610.0  10.0    9.0           1\n",
       "196  197  138       1  11.0   522.0   3.0   12.0           1\n",
       "197  198  189       0   7.0   558.0   4.0    2.0           1\n",
       "198  199  109       1   6.0   424.0   6.0   11.0           1\n",
       "\n",
       "[190 rows x 8 columns]"
      ]
     },
     "execution_count": 17,
     "metadata": {},
     "output_type": "execute_result"
    }
   ],
   "source": [
    "import numpy as np\n",
    "df"
   ]
  },
  {
   "cell_type": "code",
   "execution_count": 18,
   "id": "98fe32eb",
   "metadata": {
    "scrolled": true
   },
   "outputs": [
    {
     "data": {
      "text/plain": [
       "['ID', 'rdm', 'Genero', 'pgen', 'ingf', 'nfam', 'tocio', 'Intercepto']"
      ]
     },
     "execution_count": 18,
     "metadata": {},
     "output_type": "execute_result"
    }
   ],
   "source": [
    "#Ver las variables en juego\n",
    "list(df)"
   ]
  },
  {
   "cell_type": "code",
   "execution_count": 19,
   "id": "fdaa06e4",
   "metadata": {},
   "outputs": [],
   "source": [
    "#Establecer el Y, y X"
   ]
  },
  {
   "cell_type": "code",
   "execution_count": 20,
   "id": "a3175182",
   "metadata": {},
   "outputs": [],
   "source": [
    "Y = df[\"rdm\"]\n",
    "X = df[['Intercepto',\"Genero\",\"pgen\", \"ingf\",\"nfam\",\"tocio\"]]"
   ]
  },
  {
   "cell_type": "code",
   "execution_count": 21,
   "id": "3d9ae950",
   "metadata": {},
   "outputs": [
    {
     "name": "stdout",
     "output_type": "stream",
     "text": [
      "0      124\n",
      "1      267\n",
      "2      193\n",
      "3      122\n",
      "4      134\n",
      "      ... \n",
      "194    372\n",
      "195    215\n",
      "196    138\n",
      "197    189\n",
      "198    109\n",
      "Name: rdm, Length: 190, dtype: int64\n"
     ]
    }
   ],
   "source": [
    "print(Y)"
   ]
  },
  {
   "cell_type": "code",
   "execution_count": 22,
   "id": "4614cf26",
   "metadata": {
    "scrolled": false
   },
   "outputs": [
    {
     "name": "stdout",
     "output_type": "stream",
     "text": [
      "     Intercepto  Genero  pgen    ingf  nfam  tocio\n",
      "0             1       0   7.0   434.0  10.0    8.0\n",
      "1             1       1  12.0  1002.0  10.0    1.0\n",
      "2             1       1   9.0   657.0  11.0   12.0\n",
      "3             1       0   4.0   200.0   3.0    2.0\n",
      "4             1       0   7.0   408.0   8.0   12.0\n",
      "..          ...     ...   ...     ...   ...    ...\n",
      "194           1       1  16.0   995.0   5.0    7.0\n",
      "195           1       0  11.0   610.0  10.0    9.0\n",
      "196           1       1  11.0   522.0   3.0   12.0\n",
      "197           1       0   7.0   558.0   4.0    2.0\n",
      "198           1       1   6.0   424.0   6.0   11.0\n",
      "\n",
      "[190 rows x 6 columns]\n"
     ]
    }
   ],
   "source": [
    "print(X)"
   ]
  },
  {
   "cell_type": "code",
   "execution_count": 23,
   "id": "347b66bf",
   "metadata": {
    "scrolled": true
   },
   "outputs": [
    {
     "data": {
      "text/plain": [
       "['Intercepto', 'Genero', 'pgen', 'ingf', 'nfam', 'tocio']"
      ]
     },
     "execution_count": 23,
     "metadata": {},
     "output_type": "execute_result"
    }
   ],
   "source": [
    "list(X)"
   ]
  },
  {
   "cell_type": "markdown",
   "id": "d33e5a9d",
   "metadata": {},
   "source": [
    "## Pasar a matriz y calcular los B\n"
   ]
  },
  {
   "cell_type": "code",
   "execution_count": 24,
   "id": "a88db584",
   "metadata": {},
   "outputs": [],
   "source": [
    "Y = np.asarray(Y)\n",
    "X = np.asarray(X)"
   ]
  },
  {
   "cell_type": "code",
   "execution_count": 25,
   "id": "74ae4cb7",
   "metadata": {
    "scrolled": true
   },
   "outputs": [
    {
     "name": "stdout",
     "output_type": "stream",
     "text": [
      "[[1.000e+00 0.000e+00 7.000e+00 4.340e+02 1.000e+01 8.000e+00]\n",
      " [1.000e+00 1.000e+00 1.200e+01 1.002e+03 1.000e+01 1.000e+00]\n",
      " [1.000e+00 1.000e+00 9.000e+00 6.570e+02 1.100e+01 1.200e+01]\n",
      " ...\n",
      " [1.000e+00 1.000e+00 1.100e+01 5.220e+02 3.000e+00 1.200e+01]\n",
      " [1.000e+00 0.000e+00 7.000e+00 5.580e+02 4.000e+00 2.000e+00]\n",
      " [1.000e+00 1.000e+00 6.000e+00 4.240e+02 6.000e+00 1.100e+01]]\n"
     ]
    }
   ],
   "source": [
    "print(X)"
   ]
  },
  {
   "cell_type": "code",
   "execution_count": 26,
   "id": "4b14ba89",
   "metadata": {},
   "outputs": [
    {
     "name": "stdout",
     "output_type": "stream",
     "text": [
      "[124 267 193 122 134 100 296 194 331 225 226 211 120 344 212 210 168 156\n",
      " 199  56 253 254 332 136 184 134 284 174 137 277 118  33  82 264  54 305\n",
      " 140 346 118 215 239 128  19  35 411 180 107 194 245 211 131 218 164 360\n",
      " 138  81  84 194 178 130 335 338 161 213 167 373  73 180 228 248 140 188\n",
      " 291 175  25 214 151 258 115 224 264 246  57 166 169 262 114 123 130  61\n",
      "  75 251 178 397 129 121  42 138 217 149 176  92 207 147 306 242 125  73\n",
      " 196 100 135  52 186 141 279  74 101 222 106 268 230 139  88 102 265 117\n",
      " 124 171 230  69 194 148 255  18  11 172 118 163 162 202 211 183 106 177\n",
      " 295 157 207 207  92 228 225 100  90 394 193 193  27 343 226  77  57 385\n",
      " 374 352 282 312 126 283 278  69 242 229 182 157 111 331 200 127  91  95\n",
      " 309  42 285 221 100 372 215 138 189 109]\n"
     ]
    }
   ],
   "source": [
    "print(Y)"
   ]
  },
  {
   "cell_type": "markdown",
   "id": "d4e4f16e",
   "metadata": {},
   "source": [
    "$ X^{T}$\n"
   ]
  },
  {
   "cell_type": "code",
   "execution_count": 27,
   "id": "0a172031",
   "metadata": {},
   "outputs": [
    {
     "name": "stdout",
     "output_type": "stream",
     "text": [
      "[[1.000e+00 1.000e+00 1.000e+00 ... 1.000e+00 1.000e+00 1.000e+00]\n",
      " [0.000e+00 1.000e+00 1.000e+00 ... 1.000e+00 0.000e+00 1.000e+00]\n",
      " [7.000e+00 1.200e+01 9.000e+00 ... 1.100e+01 7.000e+00 6.000e+00]\n",
      " [4.340e+02 1.002e+03 6.570e+02 ... 5.220e+02 5.580e+02 4.240e+02]\n",
      " [1.000e+01 1.000e+01 1.100e+01 ... 3.000e+00 4.000e+00 6.000e+00]\n",
      " [8.000e+00 1.000e+00 1.200e+01 ... 1.200e+01 2.000e+00 1.100e+01]]\n"
     ]
    }
   ],
   "source": [
    "XT = np.transpose(X)\n",
    "print(XT)"
   ]
  },
  {
   "cell_type": "markdown",
   "id": "ecb9e816",
   "metadata": {},
   "source": [
    "$ (X^{T}X)$"
   ]
  },
  {
   "cell_type": "code",
   "execution_count": 28,
   "id": "c6a6986d",
   "metadata": {},
   "outputs": [
    {
     "name": "stdout",
     "output_type": "stream",
     "text": [
      "[[1.9000000e+02 8.5000000e+01 1.6610000e+03 1.1012100e+05 1.1720000e+03\n",
      "  1.1620000e+03]\n",
      " [8.5000000e+01 8.5000000e+01 7.2100000e+02 4.6769000e+04 4.8800000e+02\n",
      "  5.8300000e+02]\n",
      " [1.6610000e+03 7.2100000e+02 1.7091000e+04 1.1354600e+06 1.0297000e+04\n",
      "  9.7890000e+03]\n",
      " [1.1012100e+05 4.6769000e+04 1.1354600e+06 7.7832113e+07 6.8221600e+05\n",
      "  6.4895500e+05]\n",
      " [1.1720000e+03 4.8800000e+02 1.0297000e+04 6.8221600e+05 8.6320000e+03\n",
      "  7.2210000e+03]\n",
      " [1.1620000e+03 5.8300000e+02 9.7890000e+03 6.4895500e+05 7.2210000e+03\n",
      "  9.8040000e+03]]\n"
     ]
    }
   ],
   "source": [
    "P = np.dot(XT,X)\n",
    "print(P)"
   ]
  },
  {
   "cell_type": "markdown",
   "id": "d8e6d634",
   "metadata": {},
   "source": [
    "$(X^{T}X)^{-1}$"
   ]
  },
  {
   "cell_type": "code",
   "execution_count": 29,
   "id": "6b4039de",
   "metadata": {},
   "outputs": [
    {
     "name": "stdout",
     "output_type": "stream",
     "text": [
      "[[ 8.56495286e-02 -1.15327224e-02 -3.61489630e-03 -2.14845025e-06\n",
      "  -4.46773272e-03 -2.42342001e-03]\n",
      " [-1.15327224e-02  2.27337424e-02 -5.51704121e-04  9.79800790e-06\n",
      "   6.08379090e-04 -5.30771974e-04]\n",
      " [-3.61489630e-03 -5.51704121e-04  2.29889269e-03 -2.83196275e-05\n",
      "  -4.15604316e-05  7.10489801e-05]\n",
      " [-2.14845025e-06  9.79800790e-06 -2.83196275e-05  4.21850650e-07\n",
      "   4.13920634e-07 -2.80081122e-07]\n",
      " [-4.46773272e-03  6.08379090e-04 -4.15604316e-05  4.13920634e-07\n",
      "   7.30521147e-04 -3.06052214e-05]\n",
      " [-2.42342001e-03 -5.30771974e-04  7.10489801e-05 -2.80081122e-07\n",
      "  -3.06052214e-05  3.90933904e-04]]\n"
     ]
    }
   ],
   "source": [
    "I = np.linalg.inv(P)\n",
    "print(I)"
   ]
  },
  {
   "cell_type": "markdown",
   "id": "83ccb327",
   "metadata": {},
   "source": [
    "$(X^{T}X)^{-1}X^{T}$"
   ]
  },
  {
   "cell_type": "code",
   "execution_count": 30,
   "id": "5c6f833a",
   "metadata": {},
   "outputs": [],
   "source": [
    "PT=np.dot(I,XT)"
   ]
  },
  {
   "cell_type": "markdown",
   "id": "dd1c70b2",
   "metadata": {},
   "source": [
    "$(X^{T}X)^{-1}X^{T}Y$"
   ]
  },
  {
   "cell_type": "code",
   "execution_count": 31,
   "id": "55a59f64",
   "metadata": {},
   "outputs": [],
   "source": [
    "B=np.dot(PT,Y)"
   ]
  },
  {
   "cell_type": "code",
   "execution_count": 32,
   "id": "7d3fbfdf",
   "metadata": {},
   "outputs": [
    {
     "name": "stdout",
     "output_type": "stream",
     "text": [
      "[55.85316245 -1.36609411  3.874624    0.21081756 -1.31603637 -3.30789967]\n"
     ]
    }
   ],
   "source": [
    "print(B)"
   ]
  },
  {
   "cell_type": "markdown",
   "id": "9111577d",
   "metadata": {},
   "source": [
    "## Parte III, calculo mediante libreria"
   ]
  },
  {
   "cell_type": "code",
   "execution_count": 33,
   "id": "3e83e99e",
   "metadata": {},
   "outputs": [
    {
     "data": {
      "text/plain": [
       "['ID', 'rdm', 'Genero', 'pgen', 'ingf', 'nfam', 'tocio', 'Intercepto']"
      ]
     },
     "execution_count": 33,
     "metadata": {},
     "output_type": "execute_result"
    }
   ],
   "source": [
    "list(df)"
   ]
  },
  {
   "cell_type": "code",
   "execution_count": 34,
   "id": "a8564eba",
   "metadata": {
    "scrolled": true
   },
   "outputs": [
    {
     "name": "stdout",
     "output_type": "stream",
     "text": [
      "                            OLS Regression Results                            \n",
      "==============================================================================\n",
      "Dep. Variable:                    rdm   R-squared:                       0.684\n",
      "Model:                            OLS   Adj. R-squared:                  0.676\n",
      "Method:                 Least Squares   F-statistic:                     79.77\n",
      "Date:                Fri, 12 Aug 2022   Prob (F-statistic):           3.30e-44\n",
      "Time:                        17:29:42   Log-Likelihood:                -1011.9\n",
      "No. Observations:                 190   AIC:                             2036.\n",
      "Df Residuals:                     184   BIC:                             2055.\n",
      "Df Model:                           5                                         \n",
      "Covariance Type:            nonrobust                                         \n",
      "==============================================================================\n",
      "                 coef    std err          t      P>|t|      [0.025      0.975]\n",
      "------------------------------------------------------------------------------\n",
      "const         55.8532     14.796      3.775      0.000      26.661      85.045\n",
      "Genero        -1.3661      7.623     -0.179      0.858     -16.406      13.674\n",
      "pgen           3.8746      2.424      1.598      0.112      -0.908       8.657\n",
      "ingf           0.2108      0.033      6.420      0.000       0.146       0.276\n",
      "nfam          -1.3160      1.366     -0.963      0.337      -4.012       1.380\n",
      "tocio         -3.3079      1.000     -3.309      0.001      -5.280      -1.336\n",
      "==============================================================================\n",
      "Omnibus:                        0.745   Durbin-Watson:                   1.920\n",
      "Prob(Omnibus):                  0.689   Jarque-Bera (JB):                0.858\n",
      "Skew:                           0.135   Prob(JB):                        0.651\n",
      "Kurtosis:                       2.812   Cond. No.                     2.62e+03\n",
      "==============================================================================\n",
      "\n",
      "Notes:\n",
      "[1] Standard Errors assume that the covariance matrix of the errors is correctly specified.\n",
      "[2] The condition number is large, 2.62e+03. This might indicate that there are\n",
      "strong multicollinearity or other numerical problems.\n"
     ]
    }
   ],
   "source": [
    "# Se construirá un modelo y se estimará.\n",
    "import statsmodels.api as sm\n",
    "Y = df[\"rdm\"]\n",
    "X = df[[\"Genero\",\"pgen\", \"ingf\",\"nfam\",\"tocio\"]]\n",
    "Modelo = sm.OLS(Y, sm.add_constant(X))\n",
    "Resultados = Modelo.fit()\n",
    "print(Resultados.summary())"
   ]
  },
  {
   "cell_type": "markdown",
   "id": "8ad49daf",
   "metadata": {},
   "source": [
    "## Parte IV, interpretacion"
   ]
  },
  {
   "cell_type": "markdown",
   "id": "6d048cfc",
   "metadata": {},
   "source": [
    "$ \\begin{aligned}\\ \\ \\\\\n",
    "H_{0}:\\beta rdm=\\beta pgen=\\beta ingf=\\beta nfam=\\beta tocio=\\beta gm=\\beta gh =\\beta_{i}=0\\\\\n",
    "H_{1}:\\beta _{1}\\neq 0\\end{aligned}  $\n",
    "\n",
    "Hipotesis nula, los B son iguales a 0 (prueba de significacia global)\n",
    "\n",
    "porque evalua de forma conjunta que los parametros de la variable sean igual a 0 \n",
    "\n",
    "La hipotesis alternativa dice que almenos algun beta será distinto de 0"
   ]
  },
  {
   "cell_type": "markdown",
   "id": "1863037d",
   "metadata": {},
   "source": [
    "![pfisher](pfisher.jpg)\n"
   ]
  },
  {
   "cell_type": "markdown",
   "id": "429e3ace",
   "metadata": {},
   "source": [
    "![pvalue](pvalue.jpg)"
   ]
  },
  {
   "cell_type": "code",
   "execution_count": null,
   "id": "a8dca94f",
   "metadata": {},
   "outputs": [],
   "source": []
  }
 ],
 "metadata": {
  "kernelspec": {
   "display_name": "Python 3 (ipykernel)",
   "language": "python",
   "name": "python3"
  },
  "language_info": {
   "codemirror_mode": {
    "name": "ipython",
    "version": 3
   },
   "file_extension": ".py",
   "mimetype": "text/x-python",
   "name": "python",
   "nbconvert_exporter": "python",
   "pygments_lexer": "ipython3",
   "version": "3.9.12"
  }
 },
 "nbformat": 4,
 "nbformat_minor": 5
}
