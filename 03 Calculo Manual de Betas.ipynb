{
 "cells": [
  {
   "cell_type": "markdown",
   "id": "3ea62c96",
   "metadata": {},
   "source": [
    "# Calculo Manual de Betas"
   ]
  },
  {
   "cell_type": "markdown",
   "id": "af63a94e",
   "metadata": {},
   "source": [
    "Para el calculo manual de los estimadores Betas se busca satisfacer la siguiente operación:\n",
    "\n",
    "$(X^{T}X)^{-1}X^{T}Y$\n",
    "\n",
    "Donde:\n",
    "- X: Es la matriz compuesta por las columnas de las variables independientes.\n",
    "- Y: Una matriz compuesta por una columna con la variable dependiente."
   ]
  },
  {
   "cell_type": "markdown",
   "id": "9191ab88",
   "metadata": {},
   "source": [
    "En este caso, se buscará explicar el salario de los trabajadores en base a la eduación, experiencia y su permanencia."
   ]
  },
  {
   "cell_type": "markdown",
   "id": "022f8fa9",
   "metadata": {},
   "source": [
    "## Librerias"
   ]
  },
  {
   "cell_type": "code",
   "execution_count": 1,
   "id": "f41b6401",
   "metadata": {},
   "outputs": [],
   "source": [
    "##### Tratamiento de Datos ####\n",
    "# ==============================================================================\n",
    "\n",
    "import pandas as pd\n",
    "import numpy as np\n"
   ]
  },
  {
   "cell_type": "markdown",
   "id": "eff7e0fd",
   "metadata": {},
   "source": [
    "## Carga de datos"
   ]
  },
  {
   "cell_type": "code",
   "execution_count": 2,
   "id": "14da3ae7",
   "metadata": {
    "scrolled": true
   },
   "outputs": [
    {
     "data": {
      "text/html": [
       "<div>\n",
       "<style scoped>\n",
       "    .dataframe tbody tr th:only-of-type {\n",
       "        vertical-align: middle;\n",
       "    }\n",
       "\n",
       "    .dataframe tbody tr th {\n",
       "        vertical-align: top;\n",
       "    }\n",
       "\n",
       "    .dataframe thead th {\n",
       "        text-align: right;\n",
       "    }\n",
       "</style>\n",
       "<table border=\"1\" class=\"dataframe\">\n",
       "  <thead>\n",
       "    <tr style=\"text-align: right;\">\n",
       "      <th></th>\n",
       "      <th>Salario</th>\n",
       "      <th>Educacion</th>\n",
       "      <th>Experiencia</th>\n",
       "      <th>Permanencia</th>\n",
       "    </tr>\n",
       "  </thead>\n",
       "  <tbody>\n",
       "    <tr>\n",
       "      <th>0</th>\n",
       "      <td>3.10</td>\n",
       "      <td>11</td>\n",
       "      <td>2</td>\n",
       "      <td>0</td>\n",
       "    </tr>\n",
       "    <tr>\n",
       "      <th>1</th>\n",
       "      <td>3.24</td>\n",
       "      <td>12</td>\n",
       "      <td>22</td>\n",
       "      <td>2</td>\n",
       "    </tr>\n",
       "    <tr>\n",
       "      <th>2</th>\n",
       "      <td>3.00</td>\n",
       "      <td>11</td>\n",
       "      <td>2</td>\n",
       "      <td>0</td>\n",
       "    </tr>\n",
       "    <tr>\n",
       "      <th>3</th>\n",
       "      <td>6.00</td>\n",
       "      <td>8</td>\n",
       "      <td>44</td>\n",
       "      <td>28</td>\n",
       "    </tr>\n",
       "    <tr>\n",
       "      <th>4</th>\n",
       "      <td>5.30</td>\n",
       "      <td>12</td>\n",
       "      <td>7</td>\n",
       "      <td>2</td>\n",
       "    </tr>\n",
       "    <tr>\n",
       "      <th>...</th>\n",
       "      <td>...</td>\n",
       "      <td>...</td>\n",
       "      <td>...</td>\n",
       "      <td>...</td>\n",
       "    </tr>\n",
       "    <tr>\n",
       "      <th>242</th>\n",
       "      <td>3.06</td>\n",
       "      <td>12</td>\n",
       "      <td>14</td>\n",
       "      <td>10</td>\n",
       "    </tr>\n",
       "    <tr>\n",
       "      <th>243</th>\n",
       "      <td>3.20</td>\n",
       "      <td>12</td>\n",
       "      <td>15</td>\n",
       "      <td>5</td>\n",
       "    </tr>\n",
       "    <tr>\n",
       "      <th>244</th>\n",
       "      <td>4.75</td>\n",
       "      <td>12</td>\n",
       "      <td>19</td>\n",
       "      <td>0</td>\n",
       "    </tr>\n",
       "    <tr>\n",
       "      <th>245</th>\n",
       "      <td>3.00</td>\n",
       "      <td>14</td>\n",
       "      <td>17</td>\n",
       "      <td>0</td>\n",
       "    </tr>\n",
       "    <tr>\n",
       "      <th>246</th>\n",
       "      <td>4.00</td>\n",
       "      <td>12</td>\n",
       "      <td>72</td>\n",
       "      <td>12</td>\n",
       "    </tr>\n",
       "  </tbody>\n",
       "</table>\n",
       "<p>247 rows × 4 columns</p>\n",
       "</div>"
      ],
      "text/plain": [
       "     Salario  Educacion  Experiencia  Permanencia\n",
       "0       3.10         11            2            0\n",
       "1       3.24         12           22            2\n",
       "2       3.00         11            2            0\n",
       "3       6.00          8           44           28\n",
       "4       5.30         12            7            2\n",
       "..       ...        ...          ...          ...\n",
       "242     3.06         12           14           10\n",
       "243     3.20         12           15            5\n",
       "244     4.75         12           19            0\n",
       "245     3.00         14           17            0\n",
       "246     4.00         12           72           12\n",
       "\n",
       "[247 rows x 4 columns]"
      ]
     },
     "execution_count": 2,
     "metadata": {},
     "output_type": "execute_result"
    }
   ],
   "source": [
    "#### Carga de datos en un DataFrame ###\n",
    "df= pd.read_csv(\"datasets/Regresion.csv\")\n",
    "df"
   ]
  },
  {
   "cell_type": "code",
   "execution_count": 3,
   "id": "92d9926f",
   "metadata": {
    "scrolled": false
   },
   "outputs": [
    {
     "data": {
      "text/plain": [
       "['Salario', 'Educacion', 'Experiencia', 'Permanencia']"
      ]
     },
     "execution_count": 3,
     "metadata": {},
     "output_type": "execute_result"
    }
   ],
   "source": [
    "# Se pasará el dataframe a una lista, a fin de evitar problemas de tipeo al llamar a las variables.\n",
    "list(df)"
   ]
  },
  {
   "cell_type": "markdown",
   "id": "e8f7ad80",
   "metadata": {},
   "source": [
    "### Se separará el DataFrame como se  mencionó al inicio."
   ]
  },
  {
   "cell_type": "code",
   "execution_count": 4,
   "id": "8d4297d0",
   "metadata": {},
   "outputs": [],
   "source": [
    "Y=df[\"Salario\"]"
   ]
  },
  {
   "cell_type": "code",
   "execution_count": 5,
   "id": "b65e95f7",
   "metadata": {},
   "outputs": [
    {
     "name": "stdout",
     "output_type": "stream",
     "text": [
      "0      3.10\n",
      "1      3.24\n",
      "2      3.00\n",
      "3      6.00\n",
      "4      5.30\n",
      "       ... \n",
      "242    3.06\n",
      "243    3.20\n",
      "244    4.75\n",
      "245    3.00\n",
      "246    4.00\n",
      "Name: Salario, Length: 247, dtype: float64\n"
     ]
    }
   ],
   "source": [
    "print(Y)"
   ]
  },
  {
   "cell_type": "code",
   "execution_count": 6,
   "id": "172da8d4",
   "metadata": {},
   "outputs": [],
   "source": [
    "X=df[['Educacion', 'Experiencia', 'Permanencia']]"
   ]
  },
  {
   "cell_type": "code",
   "execution_count": 7,
   "id": "493b245c",
   "metadata": {
    "scrolled": false
   },
   "outputs": [
    {
     "name": "stdout",
     "output_type": "stream",
     "text": [
      "     Educacion  Experiencia  Permanencia\n",
      "0           11            2            0\n",
      "1           12           22            2\n",
      "2           11            2            0\n",
      "3            8           44           28\n",
      "4           12            7            2\n",
      "..         ...          ...          ...\n",
      "242         12           14           10\n",
      "243         12           15            5\n",
      "244         12           19            0\n",
      "245         14           17            0\n",
      "246         12           72           12\n",
      "\n",
      "[247 rows x 3 columns]\n"
     ]
    }
   ],
   "source": [
    "print(X)"
   ]
  },
  {
   "cell_type": "code",
   "execution_count": 8,
   "id": "f508a2e8",
   "metadata": {},
   "outputs": [],
   "source": [
    "#Crear la columna intercepto con un valor 1.\n",
    "\n",
    "X['Intercepto']=1"
   ]
  },
  {
   "cell_type": "code",
   "execution_count": 9,
   "id": "2d2c4fb9",
   "metadata": {
    "scrolled": false
   },
   "outputs": [
    {
     "data": {
      "text/plain": [
       "['Educacion', 'Experiencia', 'Permanencia', 'Intercepto']"
      ]
     },
     "execution_count": 9,
     "metadata": {},
     "output_type": "execute_result"
    }
   ],
   "source": [
    "list(X)"
   ]
  },
  {
   "cell_type": "code",
   "execution_count": 10,
   "id": "3f928766",
   "metadata": {},
   "outputs": [],
   "source": [
    "# Se colocará primero la columna de Intercepto por formalidad.\n",
    "X=X[['Intercepto','Educacion', 'Experiencia', 'Permanencia',]]"
   ]
  },
  {
   "cell_type": "markdown",
   "id": "af6c9c7d",
   "metadata": {},
   "source": [
    "### Pasar a matriz\n",
    "Se pasará los dataframe al formato de matriz para poder realizar las operaciones correspondientes."
   ]
  },
  {
   "cell_type": "code",
   "execution_count": 11,
   "id": "a3c99b41",
   "metadata": {},
   "outputs": [],
   "source": [
    "# Matriz para la columna de la variable dependiente.\n",
    "Y=np.asarray(Y)"
   ]
  },
  {
   "cell_type": "code",
   "execution_count": 12,
   "id": "4a0d5e37",
   "metadata": {},
   "outputs": [],
   "source": [
    "# Matriz para el dataframe compuesto por las variables independientes.\n",
    "X=np.asarray(X)"
   ]
  },
  {
   "cell_type": "code",
   "execution_count": 13,
   "id": "2593930a",
   "metadata": {},
   "outputs": [
    {
     "name": "stdout",
     "output_type": "stream",
     "text": [
      "[[ 1 11  2  0]\n",
      " [ 1 12 22  2]\n",
      " [ 1 11  2  0]\n",
      " [ 1  8 44 28]\n",
      " [ 1 12  7  2]\n",
      " [ 1 16  9  8]\n",
      " [ 1 18 15  7]\n",
      " [ 1 12  5  3]\n",
      " [ 1 12 26  4]\n",
      " [ 1 17 22 21]\n",
      " [ 1 16  8  2]\n",
      " [ 1 13  3  0]\n",
      " [ 1 12 15  0]\n",
      " [ 1 12 18  3]\n",
      " [ 1 80 20 14]\n",
      " [ 1 12 31 15]\n",
      " [ 1 16 14  0]\n",
      " [ 1 12 10  0]\n",
      " [ 1 13 16 10]\n",
      " [ 1 12 13  0]\n",
      " [ 1 12 36  6]\n",
      " [ 1 12 11  4]\n",
      " [ 1 12 29 13]\n",
      " [ 1 16  9  9]\n",
      " [ 1 12  3  1]\n",
      " [ 1 11 37  8]\n",
      " [ 1 16  3  3]\n",
      " [ 1 16 11 10]\n",
      " [ 1 16 31  0]\n",
      " [ 1 15 30  0]\n",
      " [ 1  8  9  1]\n",
      " [ 1 14 23  5]\n",
      " [ 1 14  2  5]\n",
      " [ 1 13 16 16]\n",
      " [ 1 12  7  3]\n",
      " [ 1 12  3  0]\n",
      " [ 1 16 22  4]\n",
      " [ 1 12 15  6]\n",
      " [ 1  4 39 15]\n",
      " [ 1 14  3  3]\n",
      " [ 1 12 11  0]\n",
      " [ 1 12  3  0]\n",
      " [ 1 12 20  5]\n",
      " [ 1 14 16  0]\n",
      " [ 1 11 45 12]\n",
      " [ 1 13 11  4]\n",
      " [ 1 15 20 13]\n",
      " [ 1 10  1  0]\n",
      " [ 1 12 36  2]\n",
      " [ 1 12 11 20]\n",
      " [ 1 14  9  2]\n",
      " [ 1 12 15  1]\n",
      " [ 1 12 18  0]\n",
      " [ 1 16  3  2]\n",
      " [ 1 12 15  5]\n",
      " [ 1 12  7  7]\n",
      " [ 1 12  2  0]\n",
      " [ 1 15  3  0]\n",
      " [ 1 16  1  1]\n",
      " [ 1  8 13  0]\n",
      " [ 1 18  8  8]\n",
      " [ 1 16  7  0]\n",
      " [ 1 13 40 20]\n",
      " [ 1 18 30 40]\n",
      " [ 1 14 42  5]\n",
      " [ 1 10 36  8]\n",
      " [ 1 10 13  0]\n",
      " [ 1 14  9  3]\n",
      " [ 1 14 26 23]\n",
      " [ 1 16  7  4]\n",
      " [ 1 12 25  3]\n",
      " [ 1 16 10  5]\n",
      " [ 1 12  3  2]\n",
      " [ 1 16  3  0]\n",
      " [ 1 17 17  2]\n",
      " [ 1 12 17  8]\n",
      " [ 1 12 20 34]\n",
      " [ 1 12  7  0]\n",
      " [ 1 13 24 19]\n",
      " [ 1 12 28  0]\n",
      " [ 1 12  2  1]\n",
      " [ 1 12 19 13]\n",
      " [ 1 18 13  0]\n",
      " [ 1  9 22  5]\n",
      " [ 1 16  3  1]\n",
      " [ 1 10  4  0]\n",
      " [ 1 12  7  5]\n",
      " [ 1 12  6  2]\n",
      " [ 1 12 13  3]\n",
      " [ 1 12 14  0]\n",
      " [ 1 12 14  4]\n",
      " [ 1  8 40 24]\n",
      " [ 1 12 11  7]\n",
      " [ 1 12 14  6]\n",
      " [ 1 14 40 39]\n",
      " [ 1 12  1  0]\n",
      " [ 1 12  2  0]\n",
      " [ 1 12  4  1]\n",
      " [ 1  9 19  1]\n",
      " [ 1 13  1  0]\n",
      " [ 1 12 34 22]\n",
      " [ 1 14  5  2]\n",
      " [ 1 12  3  0]\n",
      " [ 1 15  6  6]\n",
      " [ 1 12 14  0]\n",
      " [ 1 12 35 12]\n",
      " [ 1 12  8  4]\n",
      " [ 1 14  7  7]\n",
      " [ 1 15 11  3]\n",
      " [ 1 12 14 11]\n",
      " [ 1 12 35 10]\n",
      " [ 1 12 46  0]\n",
      " [ 1 17  7  0]\n",
      " [ 1 11 45 12]\n",
      " [ 1 18 29 25]\n",
      " [ 1 12  6  3]\n",
      " [ 1 14 15  0]\n",
      " [ 1 14 33 16]\n",
      " [ 1 10 15  0]\n",
      " [ 1 14  5  0]\n",
      " [ 1 12  7  2]\n",
      " [ 1 15  6  1]\n",
      " [ 1  8 33 12]\n",
      " [ 1 16  2  1]\n",
      " [ 1 14  4  0]\n",
      " [ 1 15  1  0]\n",
      " [ 1 12 29  0]\n",
      " [ 1 18 17  3]\n",
      " [ 1 16 17  3]\n",
      " [ 1 10 36  3]\n",
      " [ 1  8 31 30]\n",
      " [ 1 10 23  2]\n",
      " [ 1 11 13  1]\n",
      " [ 1 18  3  3]\n",
      " [ 1 15 15  0]\n",
      " [ 1 12 48  1]\n",
      " [ 1 11  6  0]\n",
      " [ 1 12 12  0]\n",
      " [ 1 12  5  0]\n",
      " [ 1 14 19  5]\n",
      " [ 1 16  9  3]\n",
      " [ 1  2 39 13]\n",
      " [ 1 14 28 11]\n",
      " [ 1 16 23 20]\n",
      " [ 1 12  2  0]\n",
      " [ 1 12 15  1]\n",
      " [ 1 13  5  0]\n",
      " [ 1 12 18  2]\n",
      " [ 1 15  2  2]\n",
      " [ 1 10  3  0]\n",
      " [ 1 12 31  4]\n",
      " [ 1 16 20  5]\n",
      " [ 1 13 34 15]\n",
      " [ 1  9  5  0]\n",
      " [ 1 12 11  0]\n",
      " [ 1 13 31  3]\n",
      " [ 1 12  8  5]\n",
      " [ 1 12  2  2]\n",
      " [ 1 14 18  5]\n",
      " [ 1 16  3  0]\n",
      " [ 1 16  3  2]\n",
      " [ 1  9  4  1]\n",
      " [ 1 18  4  4]\n",
      " [ 1 10  1  0]\n",
      " [ 1 10  1  0]\n",
      " [ 1 13 28  5]\n",
      " [ 1 12 47  4]\n",
      " [ 1 18 13  1]\n",
      " [ 1 13  2  6]\n",
      " [ 1 12 48  2]\n",
      " [ 1 13  6  5]\n",
      " [ 1 13  8  0]\n",
      " [ 1 13 25 21]\n",
      " [ 1 18 13  7]\n",
      " [ 1 12  8  1]\n",
      " [ 1 12 19 10]\n",
      " [ 1 13  1  4]\n",
      " [ 1 12 43  5]\n",
      " [ 1 12 19  9]\n",
      " [ 1 12 11  5]\n",
      " [ 1 14 43  4]\n",
      " [ 1 10 44  3]\n",
      " [ 1 12 22 11]\n",
      " [ 1 16  3  2]\n",
      " [ 1 16  3  2]\n",
      " [ 1 12 41 11]\n",
      " [ 1 14  5  0]\n",
      " [ 1 12 14 11]\n",
      " [ 1 12 24 16]\n",
      " [ 1 12 28  8]\n",
      " [ 1 12 25  8]\n",
      " [ 1 12  3  0]\n",
      " [ 1 12 11  0]\n",
      " [ 1 12  7  6]\n",
      " [ 1 16  9  2]\n",
      " [ 1 16  5  0]\n",
      " [ 1 14  9  3]\n",
      " [ 1 11  1  0]\n",
      " [ 1 16  2  1]\n",
      " [ 1 12 13  0]\n",
      " [ 1 12 10  2]\n",
      " [ 1 17  5  3]\n",
      " [ 1 12 30  8]\n",
      " [ 1 12 31 19]\n",
      " [ 1 16  1  2]\n",
      " [ 1  8  9  0]\n",
      " [ 1 12 10  0]\n",
      " [ 1 12 38  0]\n",
      " [ 1 12 19  6]\n",
      " [ 1 16  5  0]\n",
      " [ 1 12 26  2]\n",
      " [ 1 12 35 12]\n",
      " [ 1  9  2  0]\n",
      " [ 1 16 19 10]\n",
      " [ 1 14  3  2]\n",
      " [ 1  8 36 24]\n",
      " [ 1 14 29 24]\n",
      " [ 1 13  1  2]\n",
      " [ 1 12 38  3]\n",
      " [ 1 18  1  2]\n",
      " [ 1  9 29  0]\n",
      " [ 1  8 36 15]\n",
      " [ 1  8  4  0]\n",
      " [ 1 12 45  4]\n",
      " [ 1 14 22  3]\n",
      " [ 1 12 20  4]\n",
      " [ 1 16  5  0]\n",
      " [ 1  8 15  2]\n",
      " [ 1 13 10  2]\n",
      " [ 1  9  3  0]\n",
      " [ 1 16 16  7]\n",
      " [ 1 12 38  1]\n",
      " [ 1 15 33 26]\n",
      " [ 1 11  2  0]\n",
      " [ 1 14  6  5]\n",
      " [ 1 12 19  3]\n",
      " [ 1 12 29  0]\n",
      " [ 1 12  2  0]\n",
      " [ 1 18  3  1]\n",
      " [ 1 12  4  0]\n",
      " [ 1 12 10  1]\n",
      " [ 1 12  4  0]\n",
      " [ 1 12 14 10]\n",
      " [ 1 12 15  5]\n",
      " [ 1 12 19  0]\n",
      " [ 1 14 17  0]\n",
      " [ 1 12 72 12]]\n"
     ]
    }
   ],
   "source": [
    "print(X)"
   ]
  },
  {
   "cell_type": "markdown",
   "id": "0fb27130",
   "metadata": {},
   "source": [
    "$ X^{T}$"
   ]
  },
  {
   "cell_type": "code",
   "execution_count": 14,
   "id": "be8f6d81",
   "metadata": {},
   "outputs": [],
   "source": [
    "# Se calculará la matriz transpuesta.\n",
    "XT=np.transpose(X)"
   ]
  },
  {
   "cell_type": "code",
   "execution_count": 15,
   "id": "a706c0e8",
   "metadata": {},
   "outputs": [
    {
     "name": "stdout",
     "output_type": "stream",
     "text": [
      "[[ 1  1  1  1  1  1  1  1  1  1  1  1  1  1  1  1  1  1  1  1  1  1  1  1\n",
      "   1  1  1  1  1  1  1  1  1  1  1  1  1  1  1  1  1  1  1  1  1  1  1  1\n",
      "   1  1  1  1  1  1  1  1  1  1  1  1  1  1  1  1  1  1  1  1  1  1  1  1\n",
      "   1  1  1  1  1  1  1  1  1  1  1  1  1  1  1  1  1  1  1  1  1  1  1  1\n",
      "   1  1  1  1  1  1  1  1  1  1  1  1  1  1  1  1  1  1  1  1  1  1  1  1\n",
      "   1  1  1  1  1  1  1  1  1  1  1  1  1  1  1  1  1  1  1  1  1  1  1  1\n",
      "   1  1  1  1  1  1  1  1  1  1  1  1  1  1  1  1  1  1  1  1  1  1  1  1\n",
      "   1  1  1  1  1  1  1  1  1  1  1  1  1  1  1  1  1  1  1  1  1  1  1  1\n",
      "   1  1  1  1  1  1  1  1  1  1  1  1  1  1  1  1  1  1  1  1  1  1  1  1\n",
      "   1  1  1  1  1  1  1  1  1  1  1  1  1  1  1  1  1  1  1  1  1  1  1  1\n",
      "   1  1  1  1  1  1  1]\n",
      " [11 12 11  8 12 16 18 12 12 17 16 13 12 12 80 12 16 12 13 12 12 12 12 16\n",
      "  12 11 16 16 16 15  8 14 14 13 12 12 16 12  4 14 12 12 12 14 11 13 15 10\n",
      "  12 12 14 12 12 16 12 12 12 15 16  8 18 16 13 18 14 10 10 14 14 16 12 16\n",
      "  12 16 17 12 12 12 13 12 12 12 18  9 16 10 12 12 12 12 12  8 12 12 14 12\n",
      "  12 12  9 13 12 14 12 15 12 12 12 14 15 12 12 12 17 11 18 12 14 14 10 14\n",
      "  12 15  8 16 14 15 12 18 16 10  8 10 11 18 15 12 11 12 12 14 16  2 14 16\n",
      "  12 12 13 12 15 10 12 16 13  9 12 13 12 12 14 16 16  9 18 10 10 13 12 18\n",
      "  13 12 13 13 13 18 12 12 13 12 12 12 14 10 12 16 16 12 14 12 12 12 12 12\n",
      "  12 12 16 16 14 11 16 12 12 17 12 12 16  8 12 12 12 16 12 12  9 16 14  8\n",
      "  14 13 12 18  9  8  8 12 14 12 16  8 13  9 16 12 15 11 14 12 12 12 18 12\n",
      "  12 12 12 12 12 14 12]\n",
      " [ 2 22  2 44  7  9 15  5 26 22  8  3 15 18 20 31 14 10 16 13 36 11 29  9\n",
      "   3 37  3 11 31 30  9 23  2 16  7  3 22 15 39  3 11  3 20 16 45 11 20  1\n",
      "  36 11  9 15 18  3 15  7  2  3  1 13  8  7 40 30 42 36 13  9 26  7 25 10\n",
      "   3  3 17 17 20  7 24 28  2 19 13 22  3  4  7  6 13 14 14 40 11 14 40  1\n",
      "   2  4 19  1 34  5  3  6 14 35  8  7 11 14 35 46  7 45 29  6 15 33 15  5\n",
      "   7  6 33  2  4  1 29 17 17 36 31 23 13  3 15 48  6 12  5 19  9 39 28 23\n",
      "   2 15  5 18  2  3 31 20 34  5 11 31  8  2 18  3  3  4  4  1  1 28 47 13\n",
      "   2 48  6  8 25 13  8 19  1 43 19 11 43 44 22  3  3 41  5 14 24 28 25  3\n",
      "  11  7  9  5  9  1  2 13 10  5 30 31  1  9 10 38 19  5 26 35  2 19  3 36\n",
      "  29  1 38  1 29 36  4 45 22 20  5 15 10  3 16 38 33  2  6 19 29  2  3  4\n",
      "  10  4 14 15 19 17 72]\n",
      " [ 0  2  0 28  2  8  7  3  4 21  2  0  0  3 14 15  0  0 10  0  6  4 13  9\n",
      "   1  8  3 10  0  0  1  5  5 16  3  0  4  6 15  3  0  0  5  0 12  4 13  0\n",
      "   2 20  2  1  0  2  5  7  0  0  1  0  8  0 20 40  5  8  0  3 23  4  3  5\n",
      "   2  0  2  8 34  0 19  0  1 13  0  5  1  0  5  2  3  0  4 24  7  6 39  0\n",
      "   0  1  1  0 22  2  0  6  0 12  4  7  3 11 10  0  0 12 25  3  0 16  0  0\n",
      "   2  1 12  1  0  0  0  3  3  3 30  2  1  3  0  1  0  0  0  5  3 13 11 20\n",
      "   0  1  0  2  2  0  4  5 15  0  0  3  5  2  5  0  2  1  4  0  0  5  4  1\n",
      "   6  2  5  0 21  7  1 10  4  5  9  5  4  3 11  2  2 11  0 11 16  8  8  0\n",
      "   0  6  2  0  3  0  1  0  2  3  8 19  2  0  0  0  6  0  2 12  0 10  2 24\n",
      "  24  2  3  2  0 15  0  4  3  4  0  2  2  0  7  1 26  0  5  3  0  0  1  0\n",
      "   1  0 10  5  0  0 12]]\n"
     ]
    }
   ],
   "source": [
    "print(XT)"
   ]
  },
  {
   "cell_type": "markdown",
   "id": "13b17a6a",
   "metadata": {},
   "source": [
    "$ (X^{T}X)$"
   ]
  },
  {
   "cell_type": "code",
   "execution_count": 16,
   "id": "948fab1f",
   "metadata": {},
   "outputs": [],
   "source": [
    "# Se realizará el producto entre las matrices.\n",
    "P=np.dot(XT,X)"
   ]
  },
  {
   "cell_type": "code",
   "execution_count": 17,
   "id": "842a6751",
   "metadata": {
    "scrolled": true
   },
   "outputs": [
    {
     "name": "stdout",
     "output_type": "stream",
     "text": [
      "[[   247   3238   3985   1294]\n",
      " [  3238  48480  50451  17401]\n",
      " [  3985  50451 107483  32585]\n",
      " [  1294  17401  32585  19640]]\n"
     ]
    }
   ],
   "source": [
    "print(P)"
   ]
  },
  {
   "cell_type": "markdown",
   "id": "12f7b1f1",
   "metadata": {},
   "source": [
    "$(X^{T}X)^{-1}$"
   ]
  },
  {
   "cell_type": "code",
   "execution_count": 18,
   "id": "2743f1ef",
   "metadata": {},
   "outputs": [],
   "source": [
    "# Se calculará la matriz inversa de este producto.\n",
    "I=np.linalg.inv(P)"
   ]
  },
  {
   "cell_type": "code",
   "execution_count": 19,
   "id": "b7205b9a",
   "metadata": {
    "scrolled": false
   },
   "outputs": [
    {
     "name": "stdout",
     "output_type": "stream",
     "text": [
      "[[ 4.21053449e-02 -2.33311005e-03 -5.06241782e-04  1.32893081e-04]\n",
      " [-2.33311005e-03  1.70357392e-04  1.14574013e-05 -1.62262725e-05]\n",
      " [-5.06241782e-04  1.14574013e-05  3.15095968e-05 -2.90750299e-05]\n",
      " [ 1.32893081e-04 -1.62262725e-05 -2.90750299e-05  1.04775946e-04]]\n"
     ]
    }
   ],
   "source": [
    "print(I)"
   ]
  },
  {
   "cell_type": "markdown",
   "id": "7e8f9baa",
   "metadata": {},
   "source": [
    "$(X^{T}X)^{-1}X^{T}$"
   ]
  },
  {
   "cell_type": "code",
   "execution_count": 20,
   "id": "05d32035",
   "metadata": {},
   "outputs": [],
   "source": [
    "# Se multiplicará la matriz transpuesta por su inversa.\n",
    "PT=np.dot(I,XT)"
   ]
  },
  {
   "cell_type": "markdown",
   "id": "2ebd70ad",
   "metadata": {},
   "source": [
    "$(X^{T}X)^{-1}X^{T}Y$"
   ]
  },
  {
   "cell_type": "code",
   "execution_count": 21,
   "id": "4555c7d1",
   "metadata": {},
   "outputs": [],
   "source": [
    "# Finalmente para el calculo de los estimadores betas, será necesario multiplicar por la columna de las variables\n",
    "# independientes.\n",
    "B=np.dot(PT,Y)"
   ]
  },
  {
   "cell_type": "markdown",
   "id": "80767c5b",
   "metadata": {},
   "source": [
    "# Obtencion de los Betas"
   ]
  },
  {
   "cell_type": "code",
   "execution_count": 22,
   "id": "94794036",
   "metadata": {
    "scrolled": true
   },
   "outputs": [
    {
     "name": "stdout",
     "output_type": "stream",
     "text": [
      "[ 4.33014434e+00  7.57577042e-02 -4.16277174e-03  2.21452512e-01]\n"
     ]
    }
   ],
   "source": [
    "# La variable donde almacenaos estos estimadores fue denominada como \"B\".\n",
    "print(B)"
   ]
  },
  {
   "cell_type": "code",
   "execution_count": 23,
   "id": "4d3c0c10",
   "metadata": {
    "scrolled": true
   },
   "outputs": [
    {
     "data": {
      "text/plain": [
       "['4.330', '0.076', '-0.004', '0.221']"
      ]
     },
     "execution_count": 23,
     "metadata": {},
     "output_type": "execute_result"
    }
   ],
   "source": [
    "# Se le dará un formato más amigable visualmente.\n",
    "list(map('{:.3f}'.format,B) )"
   ]
  },
  {
   "cell_type": "code",
   "execution_count": 24,
   "id": "0db0a2bb",
   "metadata": {},
   "outputs": [
    {
     "data": {
      "text/plain": [
       "['Salario', 'Educacion', 'Experiencia', 'Permanencia']"
      ]
     },
     "execution_count": 24,
     "metadata": {},
     "output_type": "execute_result"
    }
   ],
   "source": [
    "list(df)"
   ]
  },
  {
   "cell_type": "code",
   "execution_count": 25,
   "id": "902e6daa",
   "metadata": {},
   "outputs": [
    {
     "name": "stdout",
     "output_type": "stream",
     "text": [
      "                            OLS Regression Results                            \n",
      "==============================================================================\n",
      "Dep. Variable:                Salario   R-squared:                       0.145\n",
      "Model:                            OLS   Adj. R-squared:                  0.134\n",
      "Method:                 Least Squares   F-statistic:                     13.68\n",
      "Date:                Thu, 11 Aug 2022   Prob (F-statistic):           2.82e-08\n",
      "Time:                        20:06:11   Log-Likelihood:                -691.53\n",
      "No. Observations:                 247   AIC:                             1391.\n",
      "Df Residuals:                     243   BIC:                             1405.\n",
      "Df Model:                           3                                         \n",
      "Covariance Type:            nonrobust                                         \n",
      "===============================================================================\n",
      "                  coef    std err          t      P>|t|      [0.025      0.975]\n",
      "-------------------------------------------------------------------------------\n",
      "Intercept       4.3301      0.823      5.262      0.000       2.709       5.951\n",
      "Educacion       0.0758      0.052      1.447      0.149      -0.027       0.179\n",
      "Experiencia    -0.0042      0.023     -0.185      0.853      -0.049       0.040\n",
      "Permanencia     0.2215      0.041      5.394      0.000       0.141       0.302\n",
      "==============================================================================\n",
      "Omnibus:                       94.845   Durbin-Watson:                   1.906\n",
      "Prob(Omnibus):                  0.000   Jarque-Bera (JB):              370.191\n",
      "Skew:                           1.566   Prob(JB):                     4.11e-81\n",
      "Kurtosis:                       8.115   Cond. No.                         78.9\n",
      "==============================================================================\n",
      "\n",
      "Notes:\n",
      "[1] Standard Errors assume that the covariance matrix of the errors is correctly specified.\n"
     ]
    }
   ],
   "source": [
    "# Por otra parte, este calculo se puede realizar de una manera más simple, apoyandonos de la librería \n",
    "# statsmodels de la siguiente manera:\n",
    "\n",
    "import statsmodels.formula.api as smf\n",
    "reg = smf.ols('Salario ~ Educacion + Experiencia + Permanencia', data=df) \n",
    "res = reg.fit()\n",
    "print(res.summary())"
   ]
  },
  {
   "cell_type": "code",
   "execution_count": null,
   "id": "cffafcb9",
   "metadata": {},
   "outputs": [],
   "source": []
  }
 ],
 "metadata": {
  "kernelspec": {
   "display_name": "Python 3 (ipykernel)",
   "language": "python",
   "name": "python3"
  },
  "language_info": {
   "codemirror_mode": {
    "name": "ipython",
    "version": 3
   },
   "file_extension": ".py",
   "mimetype": "text/x-python",
   "name": "python",
   "nbconvert_exporter": "python",
   "pygments_lexer": "ipython3",
   "version": "3.9.12"
  }
 },
 "nbformat": 4,
 "nbformat_minor": 5
}
