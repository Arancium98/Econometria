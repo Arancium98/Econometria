{
 "cells": [
  {
   "cell_type": "markdown",
   "id": "3b417991",
   "metadata": {},
   "source": [
    "# Sentencias `for` `if` `while` "
   ]
  },
  {
   "cell_type": "markdown",
   "id": "9bdf075d",
   "metadata": {},
   "source": [
    "# if\n"
   ]
  },
  {
   "cell_type": "markdown",
   "id": "4efe3c4f",
   "metadata": {},
   "source": [
    "La sentencia de control de flujo `if` es probablemente una de las estructuras más importantes de cualquier lenguaje de programación, incluido Python. \n",
    "\n",
    "**Esta estructura nos permite implementar sentencias condicionales dentro de nuestro programa.**\n",
    "\n",
    "La sintaxis utilizada para definir la sentencia `if` es la siguiente:\n",
    "```\n",
    "if <expresión>:\n",
    "    <sentencia(s)>\n",
    "```\n",
    "  \n",
    "`<expresión>` es una expresión evaluada en un contexto booleano. El resultado de evaluar esta expresión debe ser `True` o `False`\n",
    "\n",
    "`<sentencia(s)>` es el bloque de sentencias en Python que se ejecutará cuando el resultado de evaluar la expresión sea `True`, en caso contrario se omitirá."
   ]
  },
  {
   "cell_type": "code",
   "execution_count": 1,
   "id": "0e8cc5d1",
   "metadata": {},
   "outputs": [],
   "source": [
    "num1 = 3\n",
    "num2 = 6"
   ]
  },
  {
   "cell_type": "code",
   "execution_count": 5,
   "id": "21346af7",
   "metadata": {},
   "outputs": [
    {
     "data": {
      "text/plain": [
       "False"
      ]
     },
     "execution_count": 5,
     "metadata": {},
     "output_type": "execute_result"
    }
   ],
   "source": [
    "# Esto sería una expresión\n",
    "num1 < num2"
   ]
  },
  {
   "cell_type": "code",
   "execution_count": 3,
   "id": "a6f403c7",
   "metadata": {},
   "outputs": [
    {
     "name": "stdout",
     "output_type": "stream",
     "text": [
      "Sentencia 1\n",
      "Sentencia 2\n",
      "Sentencia 3\n"
     ]
    }
   ],
   "source": [
    "if num1 < num2:\n",
    "    print(\"Sentencia 1\")\n",
    "    print(\"Sentencia 2\")\n",
    "    print(\"Sentencia 3\")"
   ]
  },
  {
   "cell_type": "code",
   "execution_count": 4,
   "id": "10139dbd",
   "metadata": {},
   "outputs": [],
   "source": [
    "num1 = 15"
   ]
  },
  {
   "cell_type": "code",
   "execution_count": 6,
   "id": "4322694c",
   "metadata": {},
   "outputs": [],
   "source": [
    "if num1 < num2:\n",
    "    print(\"Sentencia 1\")\n",
    "    print(\"Sentencia 2\")\n",
    "    print(\"Sentencia 3\")\n",
    "    "
   ]
  },
  {
   "cell_type": "code",
   "execution_count": 27,
   "id": "8376a91d",
   "metadata": {
    "scrolled": true
   },
   "outputs": [
    {
     "data": {
      "text/plain": [
       "False"
      ]
     },
     "execution_count": 27,
     "metadata": {},
     "output_type": "execute_result"
    }
   ],
   "source": [
    "num1<num2"
   ]
  },
  {
   "cell_type": "code",
   "execution_count": 28,
   "id": "4adea2a6",
   "metadata": {},
   "outputs": [
    {
     "name": "stdout",
     "output_type": "stream",
     "text": [
      "Sentencia 1 en if\n",
      "Sentencia 2 en if\n"
     ]
    }
   ],
   "source": [
    "lista = [\"azul\", \"amarillo\", \"verde\"]\n",
    "if \"azul\" in lista:\n",
    "    print(\"Sentencia 1 en if\")\n",
    "    print(\"Sentencia 2 en if\")"
   ]
  },
  {
   "cell_type": "code",
   "execution_count": 29,
   "id": "f6c6b6dc",
   "metadata": {},
   "outputs": [
    {
     "name": "stdout",
     "output_type": "stream",
     "text": [
      "Sentencias si True\n"
     ]
    }
   ],
   "source": [
    "num1 = 5\n",
    "num2 = 10\n",
    "if num1 < num2:\n",
    "    print(\"Sentencias si True\")\n",
    "else:\n",
    "    print(\"Sentencias si False\")"
   ]
  },
  {
   "cell_type": "code",
   "execution_count": 31,
   "id": "69e223da",
   "metadata": {},
   "outputs": [
    {
     "name": "stdout",
     "output_type": "stream",
     "text": [
      "Vamos a la playa\n"
     ]
    }
   ],
   "source": [
    "Tiempo = \"Soleado\"\n",
    "print(\"Vamos\" , \"a la playa\" if Tiempo == \"Soleado\" else \"Al cine\")"
   ]
  },
  {
   "cell_type": "markdown",
   "id": "73b5530c",
   "metadata": {},
   "source": [
    "# Range"
   ]
  },
  {
   "cell_type": "code",
   "execution_count": 1,
   "id": "b8b99eab",
   "metadata": {},
   "outputs": [
    {
     "name": "stdout",
     "output_type": "stream",
     "text": [
      "Help on class range in module builtins:\n",
      "\n",
      "class range(object)\n",
      " |  range(stop) -> range object\n",
      " |  range(start, stop[, step]) -> range object\n",
      " |  \n",
      " |  Return an object that produces a sequence of integers from start (inclusive)\n",
      " |  to stop (exclusive) by step.  range(i, j) produces i, i+1, i+2, ..., j-1.\n",
      " |  start defaults to 0, and stop is omitted!  range(4) produces 0, 1, 2, 3.\n",
      " |  These are exactly the valid indices for a list of 4 elements.\n",
      " |  When step is given, it specifies the increment (or decrement).\n",
      " |  \n",
      " |  Methods defined here:\n",
      " |  \n",
      " |  __bool__(self, /)\n",
      " |      self != 0\n",
      " |  \n",
      " |  __contains__(self, key, /)\n",
      " |      Return key in self.\n",
      " |  \n",
      " |  __eq__(self, value, /)\n",
      " |      Return self==value.\n",
      " |  \n",
      " |  __ge__(self, value, /)\n",
      " |      Return self>=value.\n",
      " |  \n",
      " |  __getattribute__(self, name, /)\n",
      " |      Return getattr(self, name).\n",
      " |  \n",
      " |  __getitem__(self, key, /)\n",
      " |      Return self[key].\n",
      " |  \n",
      " |  __gt__(self, value, /)\n",
      " |      Return self>value.\n",
      " |  \n",
      " |  __hash__(self, /)\n",
      " |      Return hash(self).\n",
      " |  \n",
      " |  __iter__(self, /)\n",
      " |      Implement iter(self).\n",
      " |  \n",
      " |  __le__(self, value, /)\n",
      " |      Return self<=value.\n",
      " |  \n",
      " |  __len__(self, /)\n",
      " |      Return len(self).\n",
      " |  \n",
      " |  __lt__(self, value, /)\n",
      " |      Return self<value.\n",
      " |  \n",
      " |  __ne__(self, value, /)\n",
      " |      Return self!=value.\n",
      " |  \n",
      " |  __reduce__(...)\n",
      " |      Helper for pickle.\n",
      " |  \n",
      " |  __repr__(self, /)\n",
      " |      Return repr(self).\n",
      " |  \n",
      " |  __reversed__(...)\n",
      " |      Return a reverse iterator.\n",
      " |  \n",
      " |  count(...)\n",
      " |      rangeobject.count(value) -> integer -- return number of occurrences of value\n",
      " |  \n",
      " |  index(...)\n",
      " |      rangeobject.index(value) -> integer -- return index of value.\n",
      " |      Raise ValueError if the value is not present.\n",
      " |  \n",
      " |  ----------------------------------------------------------------------\n",
      " |  Static methods defined here:\n",
      " |  \n",
      " |  __new__(*args, **kwargs) from builtins.type\n",
      " |      Create and return a new object.  See help(type) for accurate signature.\n",
      " |  \n",
      " |  ----------------------------------------------------------------------\n",
      " |  Data descriptors defined here:\n",
      " |  \n",
      " |  start\n",
      " |  \n",
      " |  step\n",
      " |  \n",
      " |  stop\n",
      "\n"
     ]
    }
   ],
   "source": [
    "help(range)"
   ]
  },
  {
   "cell_type": "code",
   "execution_count": 2,
   "id": "2f98b5e5",
   "metadata": {},
   "outputs": [
    {
     "data": {
      "text/plain": [
       "range(0, 5)"
      ]
     },
     "execution_count": 2,
     "metadata": {},
     "output_type": "execute_result"
    }
   ],
   "source": [
    "range(5)"
   ]
  },
  {
   "cell_type": "code",
   "execution_count": 3,
   "id": "21928e54",
   "metadata": {},
   "outputs": [
    {
     "data": {
      "text/plain": [
       "[0, 1, 2, 3, 4]"
      ]
     },
     "execution_count": 3,
     "metadata": {},
     "output_type": "execute_result"
    }
   ],
   "source": [
    "list(range(5))"
   ]
  },
  {
   "cell_type": "code",
   "execution_count": 5,
   "id": "1232782d",
   "metadata": {},
   "outputs": [
    {
     "data": {
      "text/plain": [
       "[5, 6, 7, 8, 9, 10, 11, 12, 13, 14, 15, 16, 17, 18, 19]"
      ]
     },
     "execution_count": 5,
     "metadata": {},
     "output_type": "execute_result"
    }
   ],
   "source": [
    "list(range(5,20))"
   ]
  },
  {
   "cell_type": "code",
   "execution_count": null,
   "id": "51b716dd",
   "metadata": {},
   "outputs": [],
   "source": []
  },
  {
   "cell_type": "markdown",
   "id": "db2e13f5",
   "metadata": {},
   "source": [
    "# for"
   ]
  },
  {
   "cell_type": "markdown",
   "id": "c190d273",
   "metadata": {},
   "source": [
    "**Esta estructura nos permite implementar sentencias en Python que se repitan un número finito de veces. Por esta razón a este tipo de sentencias se les denomina bucles.**\n",
    "\n",
    "La sintaxis utilizada para definir la sentencia `for` es la siguiente:\n",
    "```\n",
    "for <variable> in <iterable>:\n",
    "    <sentencia(s)>\n",
    "```\n",
    "  \n",
    "`<iterable>` es una colección de elementos, por ejemplo, una lista o una tupla.\n",
    "\n",
    "`<variable>` es una variable que recibirá uno de los elementos del objeto `<iterable>` en cada una de las itreaciones.\n",
    "\n",
    "`<sentencia(s)>` es el bloque de sentencias en Python que se ejecutará repetidamente."
   ]
  },
  {
   "cell_type": "code",
   "execution_count": 6,
   "id": "22374877",
   "metadata": {},
   "outputs": [
    {
     "name": "stdout",
     "output_type": "stream",
     "text": [
      "1\n",
      "2\n",
      "3\n",
      "4\n",
      "5\n"
     ]
    }
   ],
   "source": [
    "for numero in [1,2,3,4,5]:\n",
    "    print(numero)\n",
    "    "
   ]
  },
  {
   "cell_type": "code",
   "execution_count": 3,
   "id": "95c79363",
   "metadata": {},
   "outputs": [
    {
     "name": "stdout",
     "output_type": "stream",
     "text": [
      "1\n",
      "2\n",
      "3\n",
      "4\n",
      "5\n",
      "6\n",
      "7\n",
      "8\n",
      "9\n",
      "10\n"
     ]
    }
   ],
   "source": [
    "for i in range(1,11):\n",
    "    print(i)"
   ]
  },
  {
   "cell_type": "code",
   "execution_count": 1,
   "id": "9f6d21b5",
   "metadata": {},
   "outputs": [],
   "source": [
    "Animales = [\"perro\", \"gato\", \"marmota\"]"
   ]
  },
  {
   "cell_type": "code",
   "execution_count": 5,
   "id": "ce07d40b",
   "metadata": {},
   "outputs": [
    {
     "name": "stdout",
     "output_type": "stream",
     "text": [
      "perro\n",
      "gato\n",
      "marmota\n"
     ]
    }
   ],
   "source": [
    "for animal in Animales:\n",
    "    print(animal)"
   ]
  },
  {
   "cell_type": "code",
   "execution_count": 7,
   "id": "c0187f53",
   "metadata": {},
   "outputs": [
    {
     "name": "stdout",
     "output_type": "stream",
     "text": [
      "La letra no está\n",
      "La letra no está\n",
      "La letra no está\n",
      "La letra no está\n",
      "La letra no está\n",
      "La letra está\n"
     ]
    }
   ],
   "source": [
    "letras=[\"f\",\"g\",\"h\",\"i\",\"l\",\"m\"]\n",
    "for i in letras:\n",
    "    if i==\"m\":\n",
    "        print(\"La letra está\")\n",
    "    else:\n",
    "        print(\"La letra no está\")\n",
    "        "
   ]
  },
  {
   "cell_type": "code",
   "execution_count": 9,
   "id": "f39e124b",
   "metadata": {},
   "outputs": [
    {
     "name": "stdout",
     "output_type": "stream",
     "text": [
      "La letra está\n"
     ]
    }
   ],
   "source": [
    "#Nos interesa que nos diga si está no que lo muestre\n",
    "letras=[\"f\",\"g\",\"h\",\"i\",\"l\",\"ñ\"]\n",
    "encontrado = False\n",
    "\n",
    "\n",
    "for i in letras:\n",
    "    if i==\"g\":\n",
    "        encontrado = True\n",
    "        \n",
    "if encontrado == True:\n",
    "    print(\"La letra está\")\n",
    "else:\n",
    "    print(\"La letra no está\")\n",
    "        "
   ]
  },
  {
   "cell_type": "markdown",
   "id": "5688c322",
   "metadata": {},
   "source": [
    "# While"
   ]
  },
  {
   "cell_type": "markdown",
   "id": "c9ee8522",
   "metadata": {},
   "source": [
    "La sentencia de control de flujo `while` es otra de las estructuras fundamentales de cualquier lenguaje de programación, incluido Python. \n",
    "\n",
    "**Esta estructura nos permite implementar sentencias en Python que se repitan un número infinito de veces.**\n",
    "\n",
    "La sintaxis utilizada para definir la sentencia `while` es la siguiente:\n",
    "```\n",
    "while <expresión>:\n",
    "    <sentencia(s)>\n",
    "```\n",
    "  \n",
    "`<sentencia(s)>` es el bloque de sentencias en Python que se ejecutará de manera indefinida hasta que no se cumpla la expresión.\n",
    "\n",
    "`<expresión>` es una expresión evaluada en un contexto booleano. El resultado de evaluar esta expresión debe ser `True` o `False`. Controla la ejecución del bucle `while`."
   ]
  },
  {
   "cell_type": "code",
   "execution_count": 47,
   "id": "432147b2",
   "metadata": {},
   "outputs": [
    {
     "name": "stdout",
     "output_type": "stream",
     "text": [
      "1\n",
      "2\n",
      "3\n",
      "4\n",
      "5\n",
      "6\n",
      "7\n",
      "8\n",
      "9\n",
      "10\n",
      "Fin del bucle\n"
     ]
    }
   ],
   "source": [
    "n=1\n",
    "\n",
    "while n<=10:\n",
    "    print(n)\n",
    "    n=n+1\n",
    "\n",
    "print(\"Fin del bucle\")\n"
   ]
  },
  {
   "cell_type": "code",
   "execution_count": 1,
   "id": "77f8fb01",
   "metadata": {},
   "outputs": [
    {
     "name": "stdout",
     "output_type": "stream",
     "text": [
      "4\n",
      "3\n",
      "2\n",
      "1\n",
      "0\n",
      "Sentencia final del bucle\n"
     ]
    }
   ],
   "source": [
    "num=5\n",
    "while num > 0:\n",
    "    num -= 1\n",
    "    print(num)\n",
    "else:\n",
    "    print(\"Sentencia final del bucle\")"
   ]
  },
  {
   "cell_type": "markdown",
   "id": "08e6b045",
   "metadata": {},
   "source": [
    "### Programa que pregunta al usuario si seguir jugando\n",
    "\n",
    "\n"
   ]
  },
  {
   "cell_type": "code",
   "execution_count": 48,
   "id": "8d469214",
   "metadata": {},
   "outputs": [
    {
     "name": "stdout",
     "output_type": "stream",
     "text": [
      "Vamos a jugar\n",
      "Seguimos jugando\n",
      "Quieres seguir jugando (s/n) :  n\n",
      "Fin del programa\n"
     ]
    }
   ],
   "source": [
    "print(\"Vamos a jugar\")\n",
    "\n",
    "\n",
    "jugando=\"s\"\n",
    "\n",
    "while jugando==\"s\":\n",
    "    print(\"Seguimos jugando\")\n",
    "    jugando=input(\"Quieres seguir jugando (s/n) :  \")\n",
    "    \n",
    "    \n",
    "print(\"Fin del programa\")"
   ]
  }
 ],
 "metadata": {
  "kernelspec": {
   "display_name": "Python 3 (ipykernel)",
   "language": "python",
   "name": "python3"
  },
  "language_info": {
   "codemirror_mode": {
    "name": "ipython",
    "version": 3
   },
   "file_extension": ".py",
   "mimetype": "text/x-python",
   "name": "python",
   "nbconvert_exporter": "python",
   "pygments_lexer": "ipython3",
   "version": "3.9.12"
  }
 },
 "nbformat": 4,
 "nbformat_minor": 5
}
